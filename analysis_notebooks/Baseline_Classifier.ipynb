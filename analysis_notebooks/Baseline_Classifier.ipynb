{
 "cells": [
  {
   "cell_type": "code",
   "execution_count": 1,
   "metadata": {
    "collapsed": true
   },
   "outputs": [],
   "source": [
    "from __future__ import division\n",
    "import numpy as np\n",
    "import matplotlib.pyplot as plt\n",
    "import os\n",
    "import sys\n",
    "import cv2"
   ]
  },
  {
   "cell_type": "code",
   "execution_count": 3,
   "metadata": {
    "collapsed": false
   },
   "outputs": [
    {
     "name": "stdout",
     "output_type": "stream",
     "text": [
      "/Users/afinneg2/BP_identification\n",
      "['.ipynb_checkpoints', 'analysis_notebooks', 'commands.bash', 'data', 'documents', 'imgs_id_test.npy', 'imgs_mask_train.npy', 'imgs_test.npy', 'imgs_train.npy', 'mnist_data', 'raw', 'scratch', 'scripts']\n"
     ]
    }
   ],
   "source": [
    "# load the BP_utils.py script\n",
    "os.chdir('/Users/afinneg2/BP_identification')\n",
    "cwd=os.getcwd()\n",
    "print cwd\n",
    "print os.listdir(cwd)\n",
    "os.chdir('scripts')\n",
    "import BP_utils\n",
    "#reload(BP_utils)\n",
    "os.chdir(cwd)"
   ]
  },
  {
   "cell_type": "code",
   "execution_count": null,
   "metadata": {
    "collapsed": true
   },
   "outputs": [],
   "source": [
    "# load training data\n",
    "train_imgs= np.load('imgs_train.npy')\n",
    "print 'shape train_imgs {}'.format(np.shape(train_imgs))\n",
    "train_masks = np.load('imgs_mask_train.npy')\n",
    "print 'shape train_mask {}'.format(np.shape(train_masks))"
   ]
  },
  {
   "cell_type": "code",
   "execution_count": null,
   "metadata": {
    "collapsed": true
   },
   "outputs": [],
   "source": [
    "print \"size of train_imgs is\"\n",
    "print \"{} GB\".format(sys.getsizeof(train_imgs)/(10.0)**9)"
   ]
  },
  {
   "cell_type": "markdown",
   "metadata": {},
   "source": [
    "# Obtain the distribution of mask areas for the training examples.  (in preparation for creating a baseline classifier)"
   ]
  },
  {
   "cell_type": "code",
   "execution_count": null,
   "metadata": {
    "collapsed": true
   },
   "outputs": [],
   "source": [
    "# load the fulll set of training masks\n",
    "train_masks = np.load('imgs_mask_train.npy')\n",
    "print 'shape train_mask {}'.format(np.shape(train_masks))"
   ]
  },
  {
   "cell_type": "code",
   "execution_count": null,
   "metadata": {
    "collapsed": true
   },
   "outputs": [],
   "source": [
    "true_mask_areas = np.zeros(np.shape(train_masks)[0], dtype=float)\n",
    "for im_index in xrange(0, np.shape(train_masks)[0]):\n",
    "    train_mask = train_masks[im_index,0]\n",
    "    true_mask_areas[im_index] =np.count_nonzero(train_mask >0"
   ]
  },
  {
   "cell_type": "code",
   "execution_count": null,
   "metadata": {
    "collapsed": true
   },
   "outputs": [],
   "source": [
    "%matplotlib inline\n",
    "\n",
    "print \"number of training examles {}\".format(len(true_mask_areas) )\n",
    "print \"number of training examples positive for BP {}\".format(\n",
    "                            np.count_nonzero(true_mask_areas) \n",
    "                                                        )\n",
    "print \"fraction of images with BP {}\".format(\n",
    "                        np.count_nonzero(true_mask_areas)/np.float(\n",
    "                               len(true_mask_areas) )  )\n",
    "\n",
    "### get the mean mask area for training examples positive for\n",
    "### BP\n",
    "\n",
    "BP_pos_mask = true_mask_areas > 0.0\n",
    "mean_pos_mask_area =np.mean(true_mask_areas[BP_pos_mask])\n",
    "\n",
    "\n",
    "\n",
    "print \"mean mask area over masks postiive for BP \\n{:.4}\".format(\n",
    "                                                    mean_pos_mask_area)\n",
    "\n",
    "print \"fraction mask area for masks positive for BP\\n{:.4f}\".format(\n",
    "                                    mean_pos_mask_area/(420.0*580.0))\n",
    "\n",
    "\n",
    "fig=plt.figure()\n",
    "ax=fig.add_subplot(1,1,1)\n",
    "ax.hist(true_mask_areas)\n",
    "ax.set_xlabel('mask area')\n",
    "ax.set_ylabel('count')"
   ]
  },
  {
   "cell_type": "markdown",
   "metadata": {},
   "source": [
    "# Get a baseline for calling BP regions \n",
    "\n",
    "### Baseline prediction accuracy is generated as follows\n",
    "+ select 41 % of training images as positive for BP\n",
    "+ For each training image selected as positive call BP as ciricular retion with radius corresponding to mean ground truth mask area and center uniformly distributed in images such that entier circular mask is with image\n",
    "+ report the mean dice coefficient over the data set (this mean dice coefficient is used to assess the performance of classifiers)"
   ]
  },
  {
   "cell_type": "code",
   "execution_count": null,
   "metadata": {
    "collapsed": true
   },
   "outputs": [],
   "source": [
    "nb_train_imgs =np.shape(train_masks)[0]\n",
    "call_area = 7126\n",
    "\n",
    "\n",
    "radius = np.sqrt(call_area /np.pi)\n",
    "called_pos_indices =np.random.choice(np.arange(0,nb_train_imgs),\n",
    "                                     size=np.int(np.floor(0.412*nb_train_imgs)),\n",
    "                                     replace=False)\n",
    "\n",
    "dice_coeffs=np.ones(shape=(nb_train_imgs,), dtype=float)\n",
    "for img_index in xrange(0,nb_train_imgs):\n",
    "    train_mask =train_masks[img_index,0]    \n",
    "    if img_index in called_pos_indices:\n",
    "        center = (np.random.uniform(0+radius, 580 - radius),\n",
    "                  np.random.uniform(0+radius, 420 - radius ))\n",
    "        called_mask = BP_utils.mask_from_circle_params(center, radius)\n",
    "        called_mask=called_mask.astype(float)\n",
    "    else:\n",
    "        called_mask=np.zeros(shape=(420,580), dtype=float)\n",
    "        \n",
    "    y_true  = train_mask>0\n",
    "    y_true=y_true.astype(float)\n",
    "    y_pred=called_mask.astype(float)\n",
    "    dice_coeffs[img_index]=BP_utils.dice_coef(y_true, y_pred)"
   ]
  },
  {
   "cell_type": "code",
   "execution_count": null,
   "metadata": {
    "collapsed": true
   },
   "outputs": [],
   "source": [
    "print np.mean(dice_coeffs"
   ]
  },
  {
   "cell_type": "code",
   "execution_count": null,
   "metadata": {
    "collapsed": true
   },
   "outputs": [],
   "source": [
    "plt.hist(dice_coeffs)"
   ]
  },
  {
   "cell_type": "code",
   "execution_count": null,
   "metadata": {
    "collapsed": true
   },
   "outputs": [],
   "source": [
    "print radius"
   ]
  }
 ],
 "metadata": {
  "kernelspec": {
   "display_name": "Python 2",
   "language": "python",
   "name": "python2"
  },
  "language_info": {
   "codemirror_mode": {
    "name": "ipython",
    "version": 2
   },
   "file_extension": ".py",
   "mimetype": "text/x-python",
   "name": "python",
   "nbconvert_exporter": "python",
   "pygments_lexer": "ipython2",
   "version": "2.7.10"
  }
 },
 "nbformat": 4,
 "nbformat_minor": 0
}
