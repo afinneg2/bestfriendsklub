{
 "cells": [
  {
   "cell_type": "markdown",
   "metadata": {},
   "source": [
    "# Create a first data set for trainining and validation set for a convolutional neural net to determine the presence/absence of BP"
   ]
  },
  {
   "cell_type": "code",
   "execution_count": 35,
   "metadata": {
    "collapsed": false
   },
   "outputs": [
    {
     "data": {
      "text/plain": [
       "<module 'BP_preprocess' from '/Users/afinneg2/BP_identification/scripts/BP_preprocess.py'>"
      ]
     },
     "execution_count": 35,
     "metadata": {},
     "output_type": "execute_result"
    }
   ],
   "source": [
    "from __future__ import division\n",
    "import numpy as np\n",
    "import matplotlib.pyplot as plt\n",
    "import os\n",
    "import sys\n",
    "import cv2\n",
    "import BP_preprocess\n",
    "reload (BP_preprocess)"
   ]
  },
  {
   "cell_type": "code",
   "execution_count": 78,
   "metadata": {
    "collapsed": false
   },
   "outputs": [],
   "source": [
    "### Keras functions/ modules\n",
    "\n",
    "from keras.layers import Input, Dense, Convolution2D, MaxPooling2D, Flatten, Dropout\n",
    "from keras.models import Model\n",
    "from keras.optimizers import SGD, Adam\n",
    "from keras import backend as K\n",
    "## a function to convert (dataset_size) array with elements indicating\n",
    "## target category to a (dataset_size, nb_category) array where\n",
    "## [i,:] is an indictor vector for target class of ith example\n",
    "from keras.utils.np_utils import to_categorical\n",
    "from keras.callbacks import EarlyStopping\n",
    "from keras.regularizers import l2\n",
    "import theano\n",
    "import theano.tensor as T\n",
    "from keras.regularizers import l2,l1\n",
    "from keras.models import model_from_json"
   ]
  },
  {
   "cell_type": "markdown",
   "metadata": {},
   "source": [
    "## Load training data and preprocess"
   ]
  },
  {
   "cell_type": "code",
   "execution_count": 5,
   "metadata": {
    "collapsed": false
   },
   "outputs": [
    {
     "name": "stdout",
     "output_type": "stream",
     "text": [
      "shape train_imgs (5635, 1, 420, 580)\n",
      "shape train_mask (5635, 1, 420, 580)\n"
     ]
    }
   ],
   "source": [
    "# load training data############\n",
    "dataDir = '/Users/afinneg2/BP_identification'\n",
    "####################################\n",
    "\n",
    "os.chdir(dataDir)\n",
    "train_imgs= np.load('imgs_train.npy')\n",
    "print 'shape train_imgs {}'.format(np.shape(train_imgs))\n",
    "train_masks = np.load('imgs_mask_train.npy')\n",
    "print 'shape train_mask {}'.format(np.shape(train_masks))"
   ]
  },
  {
   "cell_type": "code",
   "execution_count": 9,
   "metadata": {
    "collapsed": false
   },
   "outputs": [
    {
     "name": "stdout",
     "output_type": "stream",
     "text": [
      "old shape of training imgaes (5635, 1, 64, 80)\n",
      "old shape of training masks (5635, 1, 64, 80)\n",
      "new shape of training imgaes (5635, 64, 80)\n",
      "new shape of training masks (5635, 64, 80)\n"
     ]
    }
   ],
   "source": [
    "###  image resize  parameters  #######\n",
    "resized_rows = 64\n",
    "resized_cols= 80\n",
    "interp_method ='INTER_AREA'\n",
    "#################################\n",
    "\n",
    "train_imgs = BP_preprocess.resize_images(train_imgs,\n",
    "                        resized_rows, resized_cols, interp_method='INTER_AREA')\n",
    "train_masks = BP_preprocess.resize_images(train_masks,\n",
    "                        resized_rows, resized_cols, interp_method='INTER_AREA')\n",
    "\n",
    "\n",
    "print \"old shape of training imgaes {}\".format(np.shape(train_imgs))\n",
    "print  \"old shape of training masks {}\".format(np.shape(train_masks))\n",
    "\n",
    "train_masks =np.squeeze(train_masks, axis=1)  # squeeze out lenth 1 dimension \n",
    "train_imgs = BP_preprocess.mean_center_and_scale(train_imgs)\n",
    "\n",
    "print \"new shape of training imgaes {}\".format(np.shape(train_imgs))\n",
    "print  \"new shape of training masks {}\".format(np.shape(train_masks))"
   ]
  },
  {
   "cell_type": "markdown",
   "metadata": {},
   "source": [
    "## Balance the training set and set aside images for validation"
   ]
  },
  {
   "cell_type": "code",
   "execution_count": 19,
   "metadata": {
    "collapsed": false
   },
   "outputs": [
    {
     "name": "stdout",
     "output_type": "stream",
     "text": [
      "number images positive for BP 2323\n",
      "number imgaes negatve for BP 3312\n",
      "fraction positive 0.412\n"
     ]
    }
   ],
   "source": [
    "## get indices of images positive for BP ######\n",
    "pos_mask = np.asarray([BP_preprocess.mask_not_blank(mask) for mask in train_masks])\n",
    "neg_mask = np.logical_not(pos_mask)\n",
    "\n",
    "nbPosImgs=np.count_nonzero(pos_mask)\n",
    "nbNegImgs  = np.count_nonzero(neg_mask)\n",
    "\n",
    "print \"number images positive for BP {}\".format(nbPosImgs)\n",
    "print \"number imgaes negatve for BP {}\".format(nbNegImgs)\n",
    "print \"fraction positive {:.3f}\".format(nbPosImgs/np.float(\n",
    "                                              nbPosImgs +  nbNegImgs ))"
   ]
  },
  {
   "cell_type": "code",
   "execution_count": 39,
   "metadata": {
    "collapsed": false
   },
   "outputs": [
    {
     "name": "stdout",
     "output_type": "stream",
     "text": [
      "shape of PosIndies (2323,)\n",
      "shape of negIndies (3312,)\n",
      "shape of TrainPosIndices (2100,)\n",
      "shape of TrainNegIndices (2100,)\n",
      "shape of ValidPosIndices (223,)\n",
      "shape of ValidNegIndices (223,)\n"
     ]
    }
   ],
   "source": [
    "#### training and validation set partition parameters ####\n",
    "trainSetSize = 42*(10**2)\n",
    "saveArrDir='/Users/afinneg2/BP_identification/TrainValidPartitions/attempt1/'\n",
    "#################################################\n",
    "PosIndices = np.nonzero(pos_mask)[0]\n",
    "NegIndices = np.nonzero(neg_mask)[0]\n",
    "\n",
    "print \"shape of PosIndies {}\".format(np.shape(PosIndices))\n",
    "print \"shape of negIndies {}\".format(np.shape(NegIndices)) \n",
    "\n",
    "TrainIndices, ValidIndices= BP_preprocess.TrainingValditionIndexPartition(\n",
    "                                PosIndices, NegIndices, trainSetSize,\n",
    "                                PosElemsLimiting=True)  \n",
    "    \n",
    "TrainPosIndices, TrainNegIndices = TrainIndices\n",
    "\n",
    "ValidPosIndices, ValidNegIndices = ValidIndices\n",
    "\n",
    "np.save(os.path.join(saveArrDir,'TrainPosIndices') , TrainPosIndices )\n",
    "np.save(os.path.join(saveArrDir,'TrainNegIndices') , TrainNegIndices )\n",
    "np.save(os.path.join(saveArrDir,'ValidPosIndices') , ValidPosIndices )\n",
    "np.save(os.path.join(saveArrDir,'ValidNegIndices') , ValidNegIndices )"
   ]
  },
  {
   "cell_type": "markdown",
   "metadata": {},
   "source": [
    "## Build the training and validation sets"
   ]
  },
  {
   "cell_type": "code",
   "execution_count": 43,
   "metadata": {
    "collapsed": false
   },
   "outputs": [
    {
     "name": "stdout",
     "output_type": "stream",
     "text": [
      "(4200, 1, 64, 80)\n",
      "(4200, 2)\n",
      "(446, 1, 64, 80)\n",
      "(446, 2)\n"
     ]
    }
   ],
   "source": [
    "train_X = np.vstack([train_imgs[TrainPosIndices] , train_imgs[TrainNegIndices]] )\n",
    "train_X = np.reshape(train_X , newshape=(4200,1,64,80) )             \n",
    "train_Y = to_categorical(\n",
    "                np.hstack(\n",
    "                    [np.ones(shape=(len(TrainPosIndices),), dtype = int ),\n",
    "                    np.zeros(shape=(len(TrainNegIndices),), dtype = int )]\n",
    "                        ) , nb_classes=2) \n",
    "\n",
    "valid_X = np.vstack([train_imgs[ValidPosIndices] , train_imgs[ValidNegIndices] ])\n",
    "valid_X = np.reshape(valid_X , newshape=(446,1,64,80) )  \n",
    "valid_Y = to_categorical(\n",
    "                np.hstack(\n",
    "                    [np.ones(shape=(len(ValidPosIndices),), dtype = int ),\n",
    "                    np.zeros(shape=(len(ValidNegIndices),), dtype = int )]\n",
    "                        ) , nb_classes=2)\n",
    "\n",
    "print np.shape(train_X)\n",
    "print np.shape(train_Y)\n",
    "print np.shape(valid_X)\n",
    "print np.shape(valid_Y)"
   ]
  },
  {
   "cell_type": "markdown",
   "metadata": {},
   "source": [
    "## Test a (20,4,4) conv ->pool (2,2)  -> conv (50,5,7) -> maxpool (2,2) -> 2x dense 200 unit -> classifier network\n",
    "\n",
    "Notes:\n",
    "+ (50, 5 ,7 ) conv := 50 feature maps with connections to (rows = 5, cols = 7) unit patches of previous layer/ input\n",
    " \n",
    "+ dense 200 := 200 units fully connected to previous layer\n",
    "+  dropout of p=0.2 for 1st conv, then p=0.5 upto but not including the softmax classification layer"
   ]
  },
  {
   "cell_type": "code",
   "execution_count": 81,
   "metadata": {
    "collapsed": false
   },
   "outputs": [],
   "source": [
    "inputs = Input(shape=(1,64,80),name='inputs')\n",
    "\n",
    "x = Convolution2D(20,4, 4, input_shape=(1,64,80),\n",
    "                  activation='relu', \n",
    "                  border_mode='valid',\n",
    "                  name='conv1')(inputs)\n",
    "x= MaxPooling2D(pool_size=(2,2), border_mode= 'valid', name='maxpool1')(x)\n",
    "x=Dropout(p=0.2)(x)\n",
    "\n",
    "x =  Convolution2D(50,5, 7,\n",
    "                  activation='relu', \n",
    "                  border_mode='valid',\n",
    "                  name='conv2')(x)\n",
    "x= MaxPooling2D(pool_size=(2,2), border_mode= 'valid', name='maxpool2')(x)\n",
    "x=Dropout(p=0.5)(x)\n",
    "x= Flatten(name ='flatten')(x)\n",
    "\n",
    "x = Dense(200, activation='tanh',name='dense1', init='he_normal')(x)\n",
    "x=Dropout(p=0.5)(x)\n",
    "x = Dense(200, activation='tanh',name='dense2', init='he_normal')(x)\n",
    "  \n",
    "predictions = Dense(2, activation='softmax', name='output')(x)\n",
    "\n",
    "model =Model(input=inputs, output= predictions)\n",
    "#sgd= SGD(lr = 0.01, momentum=0.9, nesterov=True)\n",
    "adam = Adam()\n",
    "\n",
    "model.compile(loss = 'categorical_crossentropy', optimizer=adam,\n",
    "             metrics=['accuracy'])"
   ]
  },
  {
   "cell_type": "code",
   "execution_count": 82,
   "metadata": {
    "collapsed": false,
    "scrolled": true
   },
   "outputs": [
    {
     "name": "stdout",
     "output_type": "stream",
     "text": [
      "Train on 4200 samples, validate on 446 samples\n",
      "Epoch 1/50\n",
      "4200/4200 [==============================] - 28s - loss: 0.6638 - acc: 0.6271 - val_loss: 0.5799 - val_acc: 0.6570\n",
      "Epoch 2/50\n",
      "4200/4200 [==============================] - 28s - loss: 0.5762 - acc: 0.6914 - val_loss: 0.5717 - val_acc: 0.7040\n",
      "Epoch 3/50\n",
      "4200/4200 [==============================] - 28s - loss: 0.5540 - acc: 0.7052 - val_loss: 0.5470 - val_acc: 0.7175\n",
      "Epoch 4/50\n",
      "4200/4200 [==============================] - 28s - loss: 0.5503 - acc: 0.7210 - val_loss: 0.6028 - val_acc: 0.6726\n",
      "Epoch 5/50\n",
      "4200/4200 [==============================] - 28s - loss: 0.5388 - acc: 0.7286 - val_loss: 0.5350 - val_acc: 0.7152\n",
      "Epoch 6/50\n",
      "4200/4200 [==============================] - 28s - loss: 0.5206 - acc: 0.7424 - val_loss: 0.5238 - val_acc: 0.7220\n",
      "Epoch 7/50\n",
      "4200/4200 [==============================] - 28s - loss: 0.5161 - acc: 0.7429 - val_loss: 0.5196 - val_acc: 0.7489\n",
      "Epoch 8/50\n",
      "4200/4200 [==============================] - 28s - loss: 0.4993 - acc: 0.7524 - val_loss: 0.5038 - val_acc: 0.7578\n",
      "Epoch 9/50\n",
      "4200/4200 [==============================] - 28s - loss: 0.4843 - acc: 0.7595 - val_loss: 0.5195 - val_acc: 0.7220\n",
      "Epoch 10/50\n",
      "4200/4200 [==============================] - 28s - loss: 0.4798 - acc: 0.7736 - val_loss: 0.4967 - val_acc: 0.7735\n",
      "Epoch 11/50\n",
      "4200/4200 [==============================] - 28s - loss: 0.4649 - acc: 0.7755 - val_loss: 0.5206 - val_acc: 0.7511\n",
      "Epoch 12/50\n",
      "4200/4200 [==============================] - 29s - loss: 0.4547 - acc: 0.7814 - val_loss: 0.4864 - val_acc: 0.7735\n",
      "Epoch 13/50\n",
      "4200/4200 [==============================] - 28s - loss: 0.4518 - acc: 0.7840 - val_loss: 0.4821 - val_acc: 0.7713\n",
      "Epoch 14/50\n",
      "4200/4200 [==============================] - 29s - loss: 0.4468 - acc: 0.7874 - val_loss: 0.4779 - val_acc: 0.7735\n",
      "Epoch 15/50\n",
      "4200/4200 [==============================] - 29s - loss: 0.4311 - acc: 0.7974 - val_loss: 0.4658 - val_acc: 0.7780\n",
      "Epoch 16/50\n",
      "4200/4200 [==============================] - 29s - loss: 0.4200 - acc: 0.8098 - val_loss: 0.4736 - val_acc: 0.7758\n",
      "Epoch 17/50\n",
      "4200/4200 [==============================] - 28s - loss: 0.4221 - acc: 0.8048 - val_loss: 0.4674 - val_acc: 0.7848\n",
      "Epoch 18/50\n",
      "4200/4200 [==============================] - 28s - loss: 0.4010 - acc: 0.8179 - val_loss: 0.4630 - val_acc: 0.7803\n",
      "Epoch 19/50\n",
      "4200/4200 [==============================] - 28s - loss: 0.4003 - acc: 0.8138 - val_loss: 0.4710 - val_acc: 0.7780\n",
      "Epoch 20/50\n",
      "4200/4200 [==============================] - 29s - loss: 0.4088 - acc: 0.8105 - val_loss: 0.4809 - val_acc: 0.7870\n",
      "Epoch 21/50\n",
      "4200/4200 [==============================] - 28s - loss: 0.3818 - acc: 0.8302 - val_loss: 0.4646 - val_acc: 0.7892\n",
      "Epoch 22/50\n",
      "4200/4200 [==============================] - 28s - loss: 0.3839 - acc: 0.8279 - val_loss: 0.4621 - val_acc: 0.7960\n",
      "Epoch 23/50\n",
      "4200/4200 [==============================] - 28s - loss: 0.3770 - acc: 0.8290 - val_loss: 0.4655 - val_acc: 0.7937\n",
      "Epoch 24/50\n",
      "4200/4200 [==============================] - 30s - loss: 0.3636 - acc: 0.8326 - val_loss: 0.4823 - val_acc: 0.7825\n",
      "Epoch 25/50\n",
      "4200/4200 [==============================] - 29s - loss: 0.3600 - acc: 0.8407 - val_loss: 0.4854 - val_acc: 0.7758\n",
      "Epoch 26/50\n",
      "4200/4200 [==============================] - 28s - loss: 0.3491 - acc: 0.8436 - val_loss: 0.4877 - val_acc: 0.7691\n",
      "Epoch 27/50\n",
      "4200/4200 [==============================] - 29s - loss: 0.3483 - acc: 0.8469 - val_loss: 0.4858 - val_acc: 0.7713\n",
      "Epoch 28/50\n",
      "4200/4200 [==============================] - 28s - loss: 0.3378 - acc: 0.8498 - val_loss: 0.5076 - val_acc: 0.7623\n",
      "Epoch 29/50\n",
      "4200/4200 [==============================] - 28s - loss: 0.3277 - acc: 0.8510 - val_loss: 0.5256 - val_acc: 0.7601\n",
      "Epoch 30/50\n",
      "4200/4200 [==============================] - 28s - loss: 0.3263 - acc: 0.8519 - val_loss: 0.4991 - val_acc: 0.7803\n",
      "Epoch 31/50\n",
      "4200/4200 [==============================] - 29s - loss: 0.3176 - acc: 0.8617 - val_loss: 0.5004 - val_acc: 0.7735\n",
      "Epoch 32/50\n",
      "4200/4200 [==============================] - 29s - loss: 0.3137 - acc: 0.8560 - val_loss: 0.5099 - val_acc: 0.7735\n",
      "Epoch 33/50\n",
      "4200/4200 [==============================] - 29s - loss: 0.3094 - acc: 0.8571 - val_loss: 0.5101 - val_acc: 0.7713\n",
      "Epoch 34/50\n",
      "4200/4200 [==============================] - 28s - loss: 0.3038 - acc: 0.8576 - val_loss: 0.5023 - val_acc: 0.7735\n",
      "Epoch 35/50\n",
      "4200/4200 [==============================] - 29s - loss: 0.2938 - acc: 0.8645 - val_loss: 0.5236 - val_acc: 0.7825\n",
      "Epoch 36/50\n",
      "4200/4200 [==============================] - 29s - loss: 0.2946 - acc: 0.8640 - val_loss: 0.5231 - val_acc: 0.7713\n",
      "Epoch 37/50\n",
      "1120/4200 [=======>......................] - ETA: 20s - loss: 0.2740 - acc: 0.8777"
     ]
    },
    {
     "ename": "KeyboardInterrupt",
     "evalue": "",
     "output_type": "error",
     "traceback": [
      "\u001b[0;31m---------------------------------------------------------------------------\u001b[0m",
      "\u001b[0;31mKeyboardInterrupt\u001b[0m                         Traceback (most recent call last)",
      "\u001b[0;32m<ipython-input-82-fc5031654bf6>\u001b[0m in \u001b[0;36m<module>\u001b[0;34m()\u001b[0m\n\u001b[1;32m      2\u001b[0m \u001b[0mearly_stoppping\u001b[0m \u001b[0;34m=\u001b[0m \u001b[0mEarlyStopping\u001b[0m\u001b[0;34m(\u001b[0m\u001b[0mmonitor\u001b[0m\u001b[0;34m=\u001b[0m\u001b[0;34m'val_loss'\u001b[0m\u001b[0;34m,\u001b[0m \u001b[0mpatience\u001b[0m\u001b[0;34m=\u001b[0m\u001b[0;36m40\u001b[0m\u001b[0;34m,\u001b[0m \u001b[0mmode\u001b[0m\u001b[0;34m=\u001b[0m\u001b[0;34m'auto'\u001b[0m\u001b[0;34m)\u001b[0m\u001b[0;34m\u001b[0m\u001b[0m\n\u001b[1;32m      3\u001b[0m model.fit(train_X, train_Y, validation_data=[valid_X, valid_Y], nb_epoch=50,\n\u001b[0;32m----> 4\u001b[0;31m           callbacks=[early_stoppping])\n\u001b[0m",
      "\u001b[0;32m/Users/afinneg2/Library/Enthought/Canopy_64bit/User/lib/python2.7/site-packages/keras/engine/training.pyc\u001b[0m in \u001b[0;36mfit\u001b[0;34m(self, x, y, batch_size, nb_epoch, verbose, callbacks, validation_split, validation_data, shuffle, class_weight, sample_weight)\u001b[0m\n\u001b[1;32m   1051\u001b[0m                               \u001b[0mverbose\u001b[0m\u001b[0;34m=\u001b[0m\u001b[0mverbose\u001b[0m\u001b[0;34m,\u001b[0m \u001b[0mcallbacks\u001b[0m\u001b[0;34m=\u001b[0m\u001b[0mcallbacks\u001b[0m\u001b[0;34m,\u001b[0m\u001b[0;34m\u001b[0m\u001b[0m\n\u001b[1;32m   1052\u001b[0m                               \u001b[0mval_f\u001b[0m\u001b[0;34m=\u001b[0m\u001b[0mval_f\u001b[0m\u001b[0;34m,\u001b[0m \u001b[0mval_ins\u001b[0m\u001b[0;34m=\u001b[0m\u001b[0mval_ins\u001b[0m\u001b[0;34m,\u001b[0m \u001b[0mshuffle\u001b[0m\u001b[0;34m=\u001b[0m\u001b[0mshuffle\u001b[0m\u001b[0;34m,\u001b[0m\u001b[0;34m\u001b[0m\u001b[0m\n\u001b[0;32m-> 1053\u001b[0;31m                               callback_metrics=callback_metrics)\n\u001b[0m\u001b[1;32m   1054\u001b[0m \u001b[0;34m\u001b[0m\u001b[0m\n\u001b[1;32m   1055\u001b[0m     \u001b[0;32mdef\u001b[0m \u001b[0mevaluate\u001b[0m\u001b[0;34m(\u001b[0m\u001b[0mself\u001b[0m\u001b[0;34m,\u001b[0m \u001b[0mx\u001b[0m\u001b[0;34m,\u001b[0m \u001b[0my\u001b[0m\u001b[0;34m,\u001b[0m \u001b[0mbatch_size\u001b[0m\u001b[0;34m=\u001b[0m\u001b[0;36m32\u001b[0m\u001b[0;34m,\u001b[0m \u001b[0mverbose\u001b[0m\u001b[0;34m=\u001b[0m\u001b[0;36m1\u001b[0m\u001b[0;34m,\u001b[0m \u001b[0msample_weight\u001b[0m\u001b[0;34m=\u001b[0m\u001b[0mNone\u001b[0m\u001b[0;34m)\u001b[0m\u001b[0;34m:\u001b[0m\u001b[0;34m\u001b[0m\u001b[0m\n",
      "\u001b[0;32m/Users/afinneg2/Library/Enthought/Canopy_64bit/User/lib/python2.7/site-packages/keras/engine/training.pyc\u001b[0m in \u001b[0;36m_fit_loop\u001b[0;34m(self, f, ins, out_labels, batch_size, nb_epoch, verbose, callbacks, val_f, val_ins, shuffle, callback_metrics)\u001b[0m\n\u001b[1;32m    789\u001b[0m                 \u001b[0mbatch_logs\u001b[0m\u001b[0;34m[\u001b[0m\u001b[0;34m'size'\u001b[0m\u001b[0;34m]\u001b[0m \u001b[0;34m=\u001b[0m \u001b[0mlen\u001b[0m\u001b[0;34m(\u001b[0m\u001b[0mbatch_ids\u001b[0m\u001b[0;34m)\u001b[0m\u001b[0;34m\u001b[0m\u001b[0m\n\u001b[1;32m    790\u001b[0m                 \u001b[0mcallbacks\u001b[0m\u001b[0;34m.\u001b[0m\u001b[0mon_batch_begin\u001b[0m\u001b[0;34m(\u001b[0m\u001b[0mbatch_index\u001b[0m\u001b[0;34m,\u001b[0m \u001b[0mbatch_logs\u001b[0m\u001b[0;34m)\u001b[0m\u001b[0;34m\u001b[0m\u001b[0m\n\u001b[0;32m--> 791\u001b[0;31m                 \u001b[0mouts\u001b[0m \u001b[0;34m=\u001b[0m \u001b[0mf\u001b[0m\u001b[0;34m(\u001b[0m\u001b[0mins_batch\u001b[0m\u001b[0;34m)\u001b[0m\u001b[0;34m\u001b[0m\u001b[0m\n\u001b[0m\u001b[1;32m    792\u001b[0m                 \u001b[0;32mif\u001b[0m \u001b[0mtype\u001b[0m\u001b[0;34m(\u001b[0m\u001b[0mouts\u001b[0m\u001b[0;34m)\u001b[0m \u001b[0;34m!=\u001b[0m \u001b[0mlist\u001b[0m\u001b[0;34m:\u001b[0m\u001b[0;34m\u001b[0m\u001b[0m\n\u001b[1;32m    793\u001b[0m                     \u001b[0mouts\u001b[0m \u001b[0;34m=\u001b[0m \u001b[0;34m[\u001b[0m\u001b[0mouts\u001b[0m\u001b[0;34m]\u001b[0m\u001b[0;34m\u001b[0m\u001b[0m\n",
      "\u001b[0;32m/Users/afinneg2/Library/Enthought/Canopy_64bit/User/lib/python2.7/site-packages/keras/backend/theano_backend.pyc\u001b[0m in \u001b[0;36m__call__\u001b[0;34m(self, inputs)\u001b[0m\n\u001b[1;32m    516\u001b[0m     \u001b[0;32mdef\u001b[0m \u001b[0m__call__\u001b[0m\u001b[0;34m(\u001b[0m\u001b[0mself\u001b[0m\u001b[0;34m,\u001b[0m \u001b[0minputs\u001b[0m\u001b[0;34m)\u001b[0m\u001b[0;34m:\u001b[0m\u001b[0;34m\u001b[0m\u001b[0m\n\u001b[1;32m    517\u001b[0m         \u001b[0;32massert\u001b[0m \u001b[0mtype\u001b[0m\u001b[0;34m(\u001b[0m\u001b[0minputs\u001b[0m\u001b[0;34m)\u001b[0m \u001b[0;32min\u001b[0m \u001b[0;34m{\u001b[0m\u001b[0mlist\u001b[0m\u001b[0;34m,\u001b[0m \u001b[0mtuple\u001b[0m\u001b[0;34m}\u001b[0m\u001b[0;34m\u001b[0m\u001b[0m\n\u001b[0;32m--> 518\u001b[0;31m         \u001b[0;32mreturn\u001b[0m \u001b[0mself\u001b[0m\u001b[0;34m.\u001b[0m\u001b[0mfunction\u001b[0m\u001b[0;34m(\u001b[0m\u001b[0;34m*\u001b[0m\u001b[0minputs\u001b[0m\u001b[0;34m)\u001b[0m\u001b[0;34m\u001b[0m\u001b[0m\n\u001b[0m\u001b[1;32m    519\u001b[0m \u001b[0;34m\u001b[0m\u001b[0m\n\u001b[1;32m    520\u001b[0m \u001b[0;34m\u001b[0m\u001b[0m\n",
      "\u001b[0;32m/Users/afinneg2/Library/Enthought/Canopy_64bit/User/lib/python2.7/site-packages/theano/compile/function_module.pyc\u001b[0m in \u001b[0;36m__call__\u001b[0;34m(self, *args, **kwargs)\u001b[0m\n\u001b[1;32m    857\u001b[0m         \u001b[0mt0_fn\u001b[0m \u001b[0;34m=\u001b[0m \u001b[0mtime\u001b[0m\u001b[0;34m.\u001b[0m\u001b[0mtime\u001b[0m\u001b[0;34m(\u001b[0m\u001b[0;34m)\u001b[0m\u001b[0;34m\u001b[0m\u001b[0m\n\u001b[1;32m    858\u001b[0m         \u001b[0;32mtry\u001b[0m\u001b[0;34m:\u001b[0m\u001b[0;34m\u001b[0m\u001b[0m\n\u001b[0;32m--> 859\u001b[0;31m             \u001b[0moutputs\u001b[0m \u001b[0;34m=\u001b[0m \u001b[0mself\u001b[0m\u001b[0;34m.\u001b[0m\u001b[0mfn\u001b[0m\u001b[0;34m(\u001b[0m\u001b[0;34m)\u001b[0m\u001b[0;34m\u001b[0m\u001b[0m\n\u001b[0m\u001b[1;32m    860\u001b[0m         \u001b[0;32mexcept\u001b[0m \u001b[0mException\u001b[0m\u001b[0;34m:\u001b[0m\u001b[0;34m\u001b[0m\u001b[0m\n\u001b[1;32m    861\u001b[0m             \u001b[0;32mif\u001b[0m \u001b[0mhasattr\u001b[0m\u001b[0;34m(\u001b[0m\u001b[0mself\u001b[0m\u001b[0;34m.\u001b[0m\u001b[0mfn\u001b[0m\u001b[0;34m,\u001b[0m \u001b[0;34m'position_of_error'\u001b[0m\u001b[0;34m)\u001b[0m\u001b[0;34m:\u001b[0m\u001b[0;34m\u001b[0m\u001b[0m\n",
      "\u001b[0;31mKeyboardInterrupt\u001b[0m: "
     ]
    }
   ],
   "source": [
    "# fit the model 2 cov layer + 2  fc layer\n",
    "early_stoppping = EarlyStopping(monitor='val_loss', patience=40, mode='auto')\n",
    "model.fit(train_X, train_Y, validation_data=[valid_X, valid_Y], nb_epoch=50,\n",
    "          callbacks=[early_stoppping])"
   ]
  },
  {
   "cell_type": "code",
   "execution_count": 101,
   "metadata": {
    "collapsed": false
   },
   "outputs": [
    {
     "data": {
      "text/plain": [
       "<matplotlib.legend.Legend at 0x130fa8e10>"
      ]
     },
     "execution_count": 101,
     "metadata": {},
     "output_type": "execute_result"
    },
    {
     "data": {
      "image/png": "[encoded data removed]",
      "text/plain": [
       "<matplotlib.figure.Figure at 0x11f1f8c90>"
      ]
     },
     "metadata": {},
     "output_type": "display_data"
    }
   ],
   "source": [
    "%matplotlib inline\n",
    "figsize = (14,8)\n",
    "\n",
    "fig = plt.figure(figsize=figsize)\n",
    "ax = fig.add_subplot(2,1,1)\n",
    "ax.plot(model.history.history['val_acc'], label = 'validation set')\n",
    "ax.plot(model.history.history['acc'], label = 'test set')\n",
    "ax.set_ylabel('Predicition accuracy', fontsize='x-large')\n",
    "ax.text(0.5,0.8, \"Best validation accuracy {:.2%}\".format(\n",
    "                                max(model.history.history['val_acc'])\n",
    "                                            )\n",
    "        )\n",
    "ax.legend(loc=0)\n",
    "\n",
    "\n",
    "ax = fig.add_subplot(2,1,2)\n",
    "ax.plot(model.history.history['val_loss'], label = 'validation set')\n",
    "ax.plot(model.history.history['loss'], label = 'test_set')\n",
    "ax.set_ylabel('Loss',fontsize='x-large')\n",
    "ax.legend(loc=0)"
   ]
  },
  {
   "cell_type": "markdown",
   "metadata": {},
   "source": [
    "Conclusions:\n",
    "+  best accuracy on validation set us 79.6 %\n",
    "+  significant overfitting seems to start at ~80% test set accuracy\n",
    "                    "
   ]
  },
  {
   "cell_type": "markdown",
   "metadata": {},
   "source": [
    "Things to try:\n",
    "+ To fight overfitting:\n",
    "    + data set expansion ( will almost certainly help)\n",
    "        + possible methods:\n",
    "            + generatate multiple training inputs from one image by adding noise \n",
    "                + with what intensity ?\n",
    "                + should intensity be uniform across image?\n",
    "            +  generate multiple training inputs from one image:\n",
    "                + could we perturb images by simulating small variations in the orientation of the ultrasound receiver?\n",
    "                + Dmitrii had code to create continuous movie of the images, could we use this to interpolate intermediate frames and add these frames to the data set?\n",
    "                \n",
    "    + Regularize the weights\n",
    "        + common method is l2 regularization of weights\n",
    "            + I have tested l2 regularization below with sight improvement\n",
    "            + but many choices for l2 params \n",
    "                + actual value l2 param used  below 0.01 but this parameter can vary by layer.\n",
    "                    + should we use it only in the convolutional layers? (my intuition is yes but thats not what i do below)\n",
    "        + more sophisticated regularization\n",
    "            + using l2 reg amounts to puting a prior probability on the distribution of weights\n",
    "            + l2 reg corresponds to a weight-wise gaussian prior, there are probably other priors that are better for the first convolutional layer that will bias filters towards slow varying features in image rather than noise. Does anyone have ideas about how to define or implement these\n",
    "      \n",
    "    + incorporate weights that are specifically initiated based on analysis of training data images \n",
    "        + in another notebook I worked on doing pca over subregions of the training images and then finding the PC vectors that do the best job discriminating between elements of the positive and negative dataset (this is done be looking at distributions of positive and negative images onto the PC component and then selecting the PC vectors for which these distributions have the larges Jenson Shannon Divergence\n",
    "    "
   ]
  },
  {
   "cell_type": "markdown",
   "metadata": {},
   "source": [
    "### Test a (20,4,4) conv ->pool (2,2)  -> conv (50,5,7) -> maxpool (2,2) -> 1x dense 200 unit -> classifier network\n",
    "\n",
    "Notes:\n",
    "+  we are interested in comparing the training time for this slightly simpler network to that for network with 2 dense layers\n",
    "+  dropout of p=0.2 for 1st conv, then p=0.5 upto but not including the softmax classification layer"
   ]
  },
  {
   "cell_type": "code",
   "execution_count": 102,
   "metadata": {
    "collapsed": true
   },
   "outputs": [],
   "source": [
    "inputs = Input(shape=(1,64,80),name='inputs')\n",
    "\n",
    "x = Convolution2D(20,4, 4, input_shape=(1,64,80),\n",
    "                  activation='relu', \n",
    "                  border_mode='valid',\n",
    "                  name='conv1')(inputs)\n",
    "x= MaxPooling2D(pool_size=(2,2), border_mode= 'valid', name='maxpool1')(x)\n",
    "x=Dropout(p=0.2)(x)\n",
    "\n",
    "x =  Convolution2D(50,5, 7,\n",
    "                  activation='relu', \n",
    "                  border_mode='valid',\n",
    "                  name='conv2')(x)\n",
    "x= MaxPooling2D(pool_size=(2,2), border_mode= 'valid', name='maxpool2')(x)\n",
    "x=Dropout(p=0.5)(x)\n",
    "x= Flatten(name ='flatten')(x)\n",
    "\n",
    "x = Dense(200, activation='tanh',name='dense1', init='he_normal')(x)\n",
    " \n",
    "predictions = Dense(2, activation='softmax', name='output')(x)\n",
    "\n",
    "model =Model(input=inputs, output= predictions)\n",
    "#sgd= SGD(lr = 0.01, momentum=0.9, nesterov=True)\n",
    "adam = Adam()\n",
    "\n",
    "model.compile(loss = 'categorical_crossentropy', optimizer=adam,\n",
    "             metrics=['accuracy'])"
   ]
  },
  {
   "cell_type": "code",
   "execution_count": 104,
   "metadata": {
    "collapsed": false
   },
   "outputs": [
    {
     "name": "stdout",
     "output_type": "stream",
     "text": [
      "Train on 4200 samples, validate on 446 samples\n",
      "Epoch 1/3\n",
      "4200/4200 [==============================] - 28s - loss: 0.5968 - acc: 0.6902 - val_loss: 0.5778 - val_acc: 0.6906\n",
      "Epoch 2/3\n",
      "4200/4200 [==============================] - 28s - loss: 0.5867 - acc: 0.6952 - val_loss: 0.5756 - val_acc: 0.7108\n",
      "Epoch 3/3\n",
      "4200/4200 [==============================] - 28s - loss: 0.5719 - acc: 0.7183 - val_loss: 0.5606 - val_acc: 0.7220\n"
     ]
    },
    {
     "data": {
      "text/plain": [
       "<keras.callbacks.History at 0x1327eb690>"
      ]
     },
     "execution_count": 104,
     "metadata": {},
     "output_type": "execute_result"
    }
   ],
   "source": [
    "# fit the model \n",
    "early_stoppping = EarlyStopping(monitor='val_loss', patience=10, mode='auto')\n",
    "model.fit(train_X, train_Y, validation_data=[valid_X, valid_Y], nb_epoch=3,\n",
    "          callbacks=[early_stoppping])"
   ]
  },
  {
   "cell_type": "markdown",
   "metadata": {},
   "source": [
    "Conclusions:  training the 2 convolutional, 1 dense network takes ~28 s per epoch as opposed to 29-30 s for 2 conv 2 dense network. \n",
    "\n",
    "Since there is such little difference in train time / epoch choose to focus on the network with 2 dense layers"
   ]
  },
  {
   "cell_type": "markdown",
   "metadata": {},
   "source": [
    "## Test a (20,4,4) conv ->pool (2,2)  -> conv (50,5,7) -> maxpool (2,2) -> 2x dense 200 unit -> classifier network\n",
    "(same network as above but with l2 regularization param 0.01 for 1st conv layer and 0.001 for l2 reg for rest of the layers)\n"
   ]
  },
  {
   "cell_type": "code",
   "execution_count": 136,
   "metadata": {
    "collapsed": false
   },
   "outputs": [],
   "source": [
    "inputs = Input(shape=(1,64,80),name='inputs')     \n",
    "\n",
    "x = Convolution2D(20,4, 4, input_shape=(1,64,80),\n",
    "                  activation='relu', \n",
    "                  border_mode='valid',\n",
    "                  name='conv1', \n",
    "                  W_regularizer = l2(l=0.01))(inputs)\n",
    "x= MaxPooling2D(pool_size=(2,2), border_mode= 'valid', name='maxpool1')(x)\n",
    "x=Dropout(p=0.2)(x)\n",
    "\n",
    "x =  Convolution2D(50,5, 7,\n",
    "                  activation='relu', \n",
    "                  border_mode='valid',\n",
    "                  name='conv2',\n",
    "                W_regularizer = l2(l=0.001))(x)\n",
    "x= MaxPooling2D(pool_size=(2,2), border_mode= 'valid', name='maxpool2')(x)\n",
    "x=Dropout(p=0.5)(x)\n",
    "x= Flatten(name ='flatten')(x)\n",
    "\n",
    "x = Dense(200, activation='tanh',\n",
    "          name='dense1', init='he_normal', W_regularizer= l2(l=0.001) )(x)\n",
    "x=Dropout(p=0.5)(x)\n",
    "x = Dense(200, activation='tanh',\n",
    "          name='dense2', init='he_normal', W_regularizer= l2(l=0.001))(x)\n",
    "  \n",
    "predictions = Dense(2, activation='softmax', name='output')(x)\n",
    "\n",
    "model =Model(input=inputs, output= predictions)\n",
    "#sgd= SGD(lr = 0.01, momentum=0.9, nesterov=True)\n",
    "adam = Adam()\n",
    "\n",
    "model.compile(loss = 'categorical_crossentropy', optimizer=adam,\n",
    "             metrics=['accuracy'])"
   ]
  },
  {
   "cell_type": "code",
   "execution_count": 137,
   "metadata": {
    "collapsed": false
   },
   "outputs": [
    {
     "name": "stdout",
     "output_type": "stream",
     "text": [
      "Train on 4200 samples, validate on 446 samples\n",
      "Epoch 1/70\n",
      "4200/4200 [==============================] - 30s - loss: 1.3029 - acc: 0.6479 - val_loss: 0.6122 - val_acc: 0.6614\n",
      "Epoch 2/70\n",
      "4200/4200 [==============================] - 32s - loss: 0.9780 - acc: 0.6988 - val_loss: 0.5412 - val_acc: 0.7399\n",
      "Epoch 3/70\n",
      "4200/4200 [==============================] - 30s - loss: 0.8277 - acc: 0.7279 - val_loss: 0.5261 - val_acc: 0.7242\n",
      "Epoch 4/70\n",
      "4200/4200 [==============================] - 29s - loss: 0.7377 - acc: 0.7400 - val_loss: 0.5034 - val_acc: 0.7556\n",
      "Epoch 5/70\n",
      "4200/4200 [==============================] - 29s - loss: 0.6666 - acc: 0.7617 - val_loss: 0.4820 - val_acc: 0.7937\n",
      "Epoch 6/70\n",
      "4200/4200 [==============================] - 29s - loss: 0.6442 - acc: 0.7679 - val_loss: 0.4731 - val_acc: 0.7960\n",
      "Epoch 7/70\n",
      "4200/4200 [==============================] - 29s - loss: 0.6142 - acc: 0.7819 - val_loss: 0.5055 - val_acc: 0.7780\n",
      "Epoch 8/70\n",
      "4200/4200 [==============================] - 30s - loss: 0.6017 - acc: 0.7702 - val_loss: 0.4836 - val_acc: 0.7825\n",
      "Epoch 9/70\n",
      "4200/4200 [==============================] - 29s - loss: 0.5889 - acc: 0.7781 - val_loss: 0.4684 - val_acc: 0.7780\n",
      "Epoch 10/70\n",
      "4200/4200 [==============================] - 30s - loss: 0.5721 - acc: 0.7848 - val_loss: 0.4681 - val_acc: 0.7870\n",
      "Epoch 11/70\n",
      "4200/4200 [==============================] - 30s - loss: 0.5691 - acc: 0.7802 - val_loss: 0.4754 - val_acc: 0.7735\n",
      "Epoch 12/70\n",
      "4200/4200 [==============================] - 32s - loss: 0.5516 - acc: 0.7998 - val_loss: 0.4743 - val_acc: 0.7735\n",
      "Epoch 13/70\n",
      "4200/4200 [==============================] - 32s - loss: 0.5629 - acc: 0.7890 - val_loss: 0.4757 - val_acc: 0.7758\n",
      "Epoch 14/70\n",
      "4200/4200 [==============================] - 32s - loss: 0.5616 - acc: 0.7948 - val_loss: 0.5091 - val_acc: 0.7601\n",
      "Epoch 15/70\n",
      "4200/4200 [==============================] - 34s - loss: 0.5680 - acc: 0.7902 - val_loss: 0.4729 - val_acc: 0.7803\n",
      "Epoch 16/70\n",
      "1184/4200 [=======>......................] - ETA: 23s - loss: 0.5264 - acc: 0.8218"
     ]
    },
    {
     "ename": "KeyboardInterrupt",
     "evalue": "",
     "output_type": "error",
     "traceback": [
      "\u001b[0;31m---------------------------------------------------------------------------\u001b[0m",
      "\u001b[0;31mKeyboardInterrupt\u001b[0m                         Traceback (most recent call last)",
      "\u001b[0;32m<ipython-input-137-19f745c880b8>\u001b[0m in \u001b[0;36m<module>\u001b[0;34m()\u001b[0m\n\u001b[1;32m      2\u001b[0m \u001b[0mearly_stoppping\u001b[0m \u001b[0;34m=\u001b[0m \u001b[0mEarlyStopping\u001b[0m\u001b[0;34m(\u001b[0m\u001b[0mmonitor\u001b[0m\u001b[0;34m=\u001b[0m\u001b[0;34m'val_loss'\u001b[0m\u001b[0;34m,\u001b[0m \u001b[0mpatience\u001b[0m\u001b[0;34m=\u001b[0m\u001b[0;36m7\u001b[0m\u001b[0;34m,\u001b[0m \u001b[0mmode\u001b[0m\u001b[0;34m=\u001b[0m\u001b[0;34m'auto'\u001b[0m\u001b[0;34m)\u001b[0m\u001b[0;34m\u001b[0m\u001b[0m\n\u001b[1;32m      3\u001b[0m model.fit(train_X, train_Y, validation_data=[valid_X, valid_Y], nb_epoch=70,\n\u001b[0;32m----> 4\u001b[0;31m           callbacks=[early_stoppping])\n\u001b[0m",
      "\u001b[0;32m/Users/afinneg2/Library/Enthought/Canopy_64bit/User/lib/python2.7/site-packages/keras/engine/training.pyc\u001b[0m in \u001b[0;36mfit\u001b[0;34m(self, x, y, batch_size, nb_epoch, verbose, callbacks, validation_split, validation_data, shuffle, class_weight, sample_weight)\u001b[0m\n\u001b[1;32m   1051\u001b[0m                               \u001b[0mverbose\u001b[0m\u001b[0;34m=\u001b[0m\u001b[0mverbose\u001b[0m\u001b[0;34m,\u001b[0m \u001b[0mcallbacks\u001b[0m\u001b[0;34m=\u001b[0m\u001b[0mcallbacks\u001b[0m\u001b[0;34m,\u001b[0m\u001b[0;34m\u001b[0m\u001b[0m\n\u001b[1;32m   1052\u001b[0m                               \u001b[0mval_f\u001b[0m\u001b[0;34m=\u001b[0m\u001b[0mval_f\u001b[0m\u001b[0;34m,\u001b[0m \u001b[0mval_ins\u001b[0m\u001b[0;34m=\u001b[0m\u001b[0mval_ins\u001b[0m\u001b[0;34m,\u001b[0m \u001b[0mshuffle\u001b[0m\u001b[0;34m=\u001b[0m\u001b[0mshuffle\u001b[0m\u001b[0;34m,\u001b[0m\u001b[0;34m\u001b[0m\u001b[0m\n\u001b[0;32m-> 1053\u001b[0;31m                               callback_metrics=callback_metrics)\n\u001b[0m\u001b[1;32m   1054\u001b[0m \u001b[0;34m\u001b[0m\u001b[0m\n\u001b[1;32m   1055\u001b[0m     \u001b[0;32mdef\u001b[0m \u001b[0mevaluate\u001b[0m\u001b[0;34m(\u001b[0m\u001b[0mself\u001b[0m\u001b[0;34m,\u001b[0m \u001b[0mx\u001b[0m\u001b[0;34m,\u001b[0m \u001b[0my\u001b[0m\u001b[0;34m,\u001b[0m \u001b[0mbatch_size\u001b[0m\u001b[0;34m=\u001b[0m\u001b[0;36m32\u001b[0m\u001b[0;34m,\u001b[0m \u001b[0mverbose\u001b[0m\u001b[0;34m=\u001b[0m\u001b[0;36m1\u001b[0m\u001b[0;34m,\u001b[0m \u001b[0msample_weight\u001b[0m\u001b[0;34m=\u001b[0m\u001b[0mNone\u001b[0m\u001b[0;34m)\u001b[0m\u001b[0;34m:\u001b[0m\u001b[0;34m\u001b[0m\u001b[0m\n",
      "\u001b[0;32m/Users/afinneg2/Library/Enthought/Canopy_64bit/User/lib/python2.7/site-packages/keras/engine/training.pyc\u001b[0m in \u001b[0;36m_fit_loop\u001b[0;34m(self, f, ins, out_labels, batch_size, nb_epoch, verbose, callbacks, val_f, val_ins, shuffle, callback_metrics)\u001b[0m\n\u001b[1;32m    789\u001b[0m                 \u001b[0mbatch_logs\u001b[0m\u001b[0;34m[\u001b[0m\u001b[0;34m'size'\u001b[0m\u001b[0;34m]\u001b[0m \u001b[0;34m=\u001b[0m \u001b[0mlen\u001b[0m\u001b[0;34m(\u001b[0m\u001b[0mbatch_ids\u001b[0m\u001b[0;34m)\u001b[0m\u001b[0;34m\u001b[0m\u001b[0m\n\u001b[1;32m    790\u001b[0m                 \u001b[0mcallbacks\u001b[0m\u001b[0;34m.\u001b[0m\u001b[0mon_batch_begin\u001b[0m\u001b[0;34m(\u001b[0m\u001b[0mbatch_index\u001b[0m\u001b[0;34m,\u001b[0m \u001b[0mbatch_logs\u001b[0m\u001b[0;34m)\u001b[0m\u001b[0;34m\u001b[0m\u001b[0m\n\u001b[0;32m--> 791\u001b[0;31m                 \u001b[0mouts\u001b[0m \u001b[0;34m=\u001b[0m \u001b[0mf\u001b[0m\u001b[0;34m(\u001b[0m\u001b[0mins_batch\u001b[0m\u001b[0;34m)\u001b[0m\u001b[0;34m\u001b[0m\u001b[0m\n\u001b[0m\u001b[1;32m    792\u001b[0m                 \u001b[0;32mif\u001b[0m \u001b[0mtype\u001b[0m\u001b[0;34m(\u001b[0m\u001b[0mouts\u001b[0m\u001b[0;34m)\u001b[0m \u001b[0;34m!=\u001b[0m \u001b[0mlist\u001b[0m\u001b[0;34m:\u001b[0m\u001b[0;34m\u001b[0m\u001b[0m\n\u001b[1;32m    793\u001b[0m                     \u001b[0mouts\u001b[0m \u001b[0;34m=\u001b[0m \u001b[0;34m[\u001b[0m\u001b[0mouts\u001b[0m\u001b[0;34m]\u001b[0m\u001b[0;34m\u001b[0m\u001b[0m\n",
      "\u001b[0;32m/Users/afinneg2/Library/Enthought/Canopy_64bit/User/lib/python2.7/site-packages/keras/backend/theano_backend.pyc\u001b[0m in \u001b[0;36m__call__\u001b[0;34m(self, inputs)\u001b[0m\n\u001b[1;32m    516\u001b[0m     \u001b[0;32mdef\u001b[0m \u001b[0m__call__\u001b[0m\u001b[0;34m(\u001b[0m\u001b[0mself\u001b[0m\u001b[0;34m,\u001b[0m \u001b[0minputs\u001b[0m\u001b[0;34m)\u001b[0m\u001b[0;34m:\u001b[0m\u001b[0;34m\u001b[0m\u001b[0m\n\u001b[1;32m    517\u001b[0m         \u001b[0;32massert\u001b[0m \u001b[0mtype\u001b[0m\u001b[0;34m(\u001b[0m\u001b[0minputs\u001b[0m\u001b[0;34m)\u001b[0m \u001b[0;32min\u001b[0m \u001b[0;34m{\u001b[0m\u001b[0mlist\u001b[0m\u001b[0;34m,\u001b[0m \u001b[0mtuple\u001b[0m\u001b[0;34m}\u001b[0m\u001b[0;34m\u001b[0m\u001b[0m\n\u001b[0;32m--> 518\u001b[0;31m         \u001b[0;32mreturn\u001b[0m \u001b[0mself\u001b[0m\u001b[0;34m.\u001b[0m\u001b[0mfunction\u001b[0m\u001b[0;34m(\u001b[0m\u001b[0;34m*\u001b[0m\u001b[0minputs\u001b[0m\u001b[0;34m)\u001b[0m\u001b[0;34m\u001b[0m\u001b[0m\n\u001b[0m\u001b[1;32m    519\u001b[0m \u001b[0;34m\u001b[0m\u001b[0m\n\u001b[1;32m    520\u001b[0m \u001b[0;34m\u001b[0m\u001b[0m\n",
      "\u001b[0;32m/Users/afinneg2/Library/Enthought/Canopy_64bit/User/lib/python2.7/site-packages/theano/compile/function_module.pyc\u001b[0m in \u001b[0;36m__call__\u001b[0;34m(self, *args, **kwargs)\u001b[0m\n\u001b[1;32m    857\u001b[0m         \u001b[0mt0_fn\u001b[0m \u001b[0;34m=\u001b[0m \u001b[0mtime\u001b[0m\u001b[0;34m.\u001b[0m\u001b[0mtime\u001b[0m\u001b[0;34m(\u001b[0m\u001b[0;34m)\u001b[0m\u001b[0;34m\u001b[0m\u001b[0m\n\u001b[1;32m    858\u001b[0m         \u001b[0;32mtry\u001b[0m\u001b[0;34m:\u001b[0m\u001b[0;34m\u001b[0m\u001b[0m\n\u001b[0;32m--> 859\u001b[0;31m             \u001b[0moutputs\u001b[0m \u001b[0;34m=\u001b[0m \u001b[0mself\u001b[0m\u001b[0;34m.\u001b[0m\u001b[0mfn\u001b[0m\u001b[0;34m(\u001b[0m\u001b[0;34m)\u001b[0m\u001b[0;34m\u001b[0m\u001b[0m\n\u001b[0m\u001b[1;32m    860\u001b[0m         \u001b[0;32mexcept\u001b[0m \u001b[0mException\u001b[0m\u001b[0;34m:\u001b[0m\u001b[0;34m\u001b[0m\u001b[0m\n\u001b[1;32m    861\u001b[0m             \u001b[0;32mif\u001b[0m \u001b[0mhasattr\u001b[0m\u001b[0;34m(\u001b[0m\u001b[0mself\u001b[0m\u001b[0;34m.\u001b[0m\u001b[0mfn\u001b[0m\u001b[0;34m,\u001b[0m \u001b[0;34m'position_of_error'\u001b[0m\u001b[0;34m)\u001b[0m\u001b[0;34m:\u001b[0m\u001b[0;34m\u001b[0m\u001b[0m\n",
      "\u001b[0;31mKeyboardInterrupt\u001b[0m: "
     ]
    }
   ],
   "source": [
    "# fit the model \n",
    "early_stoppping = EarlyStopping(monitor='val_loss', patience=7, mode='auto')\n",
    "model.fit(train_X, train_Y, validation_data=[valid_X, valid_Y], nb_epoch=70,\n",
    "          callbacks=[early_stoppping])"
   ]
  },
  {
   "cell_type": "markdown",
   "metadata": {},
   "source": [
    "Conclustions:\n",
    "+ the l2(l=0.001) regularization of 2nd convlolutional layer and Dense layers are sufficient to prevent overfitting (note that val_acc and acc are always within 0-4 % of each other) but learning on the training set seems to stall (note little imporvement in  acc or and loss for later epochs)\n",
    "+ suggests that model must be made mor \"expresive\" by reducing regularization or adding more parameters (ie more features maps in the convolutional layers or more dense units)\n",
    "    + test these variations below"
   ]
  },
  {
   "cell_type": "markdown",
   "metadata": {},
   "source": [
    "## Test a (20,4,4) conv ->pool (2,2)  -> conv (50,5,7) -> maxpool (2,2) -> 2x dense 200 unit -> classifier network\n",
    "(same network as above but with l2 regularization param 0.01 at 1st conv and l2 reg 10^(-4) at other layers)"
   ]
  },
  {
   "cell_type": "code",
   "execution_count": 140,
   "metadata": {
    "collapsed": true
   },
   "outputs": [],
   "source": [
    "inputs = Input(shape=(1,64,80),name='inputs')     \n",
    "\n",
    "x = Convolution2D(20,4, 4, input_shape=(1,64,80),\n",
    "                  activation='relu', \n",
    "                  border_mode='valid',\n",
    "                  name='conv1', \n",
    "                  W_regularizer = l2(l=0.01))(inputs)\n",
    "x= MaxPooling2D(pool_size=(2,2), border_mode= 'valid', name='maxpool1')(x)\n",
    "x=Dropout(p=0.2)(x)\n",
    "\n",
    "x =  Convolution2D(50,5, 7,\n",
    "                  activation='relu', \n",
    "                  border_mode='valid',\n",
    "                  name='conv2',\n",
    "                W_regularizer = l2(l=0.0001))(x)\n",
    "x= MaxPooling2D(pool_size=(2,2), border_mode= 'valid', name='maxpool2')(x)\n",
    "x=Dropout(p=0.5)(x)\n",
    "x= Flatten(name ='flatten')(x)\n",
    "\n",
    "x = Dense(200, activation='tanh',\n",
    "          name='dense1', init='he_normal', W_regularizer= l2(l=0.0001) )(x)\n",
    "x=Dropout(p=0.5)(x)\n",
    "x = Dense(200, activation='tanh',\n",
    "          name='dense2', init='he_normal', W_regularizer= l2(l=0.0001))(x)\n",
    "  \n",
    "predictions = Dense(2, activation='softmax', name='output')(x)\n",
    "\n",
    "model =Model(input=inputs, output= predictions)\n",
    "#sgd= SGD(lr = 0.01, momentum=0.9, nesterov=True)\n",
    "adam = Adam()\n",
    "\n",
    "model.compile(loss = 'categorical_crossentropy', optimizer=adam,\n",
    "             metrics=['accuracy'])"
   ]
  },
  {
   "cell_type": "code",
   "execution_count": 141,
   "metadata": {
    "collapsed": false
   },
   "outputs": [
    {
     "name": "stdout",
     "output_type": "stream",
     "text": [
      "Train on 4200 samples, validate on 446 samples\n",
      "Epoch 1/70\n",
      "4200/4200 [==============================] - 31s - loss: 0.7437 - acc: 0.6388 - val_loss: 0.5871 - val_acc: 0.6973\n",
      "Epoch 2/70\n",
      "4200/4200 [==============================] - 31s - loss: 0.6477 - acc: 0.7062 - val_loss: 0.5505 - val_acc: 0.6883\n",
      "Epoch 3/70\n",
      "4200/4200 [==============================] - 32s - loss: 0.6064 - acc: 0.7329 - val_loss: 0.5132 - val_acc: 0.7354\n",
      "Epoch 4/70\n",
      "4200/4200 [==============================] - 30s - loss: 0.5950 - acc: 0.7400 - val_loss: 0.5748 - val_acc: 0.7085\n",
      "Epoch 5/70\n",
      "4200/4200 [==============================] - 30s - loss: 0.5758 - acc: 0.7400 - val_loss: 0.5698 - val_acc: 0.7040\n",
      "Epoch 6/70\n",
      "4200/4200 [==============================] - 31s - loss: 0.5612 - acc: 0.7562 - val_loss: 0.5000 - val_acc: 0.7444\n",
      "Epoch 7/70\n",
      "4200/4200 [==============================] - 30s - loss: 0.5545 - acc: 0.7590 - val_loss: 0.4779 - val_acc: 0.7780\n",
      "Epoch 8/70\n",
      "4200/4200 [==============================] - 29s - loss: 0.5426 - acc: 0.7671 - val_loss: 0.4822 - val_acc: 0.7668\n",
      "Epoch 9/70\n",
      "4200/4200 [==============================] - 30s - loss: 0.5329 - acc: 0.7755 - val_loss: 0.4857 - val_acc: 0.7780\n",
      "Epoch 10/70\n",
      "4200/4200 [==============================] - 32s - loss: 0.5262 - acc: 0.7774 - val_loss: 0.4924 - val_acc: 0.7803\n",
      "Epoch 11/70\n",
      "4200/4200 [==============================] - 32s - loss: 0.5267 - acc: 0.7705 - val_loss: 0.4900 - val_acc: 0.7780\n",
      "Epoch 12/70\n",
      "4200/4200 [==============================] - 31s - loss: 0.5137 - acc: 0.7881 - val_loss: 0.4566 - val_acc: 0.7937\n",
      "Epoch 13/70\n",
      "4200/4200 [==============================] - 30s - loss: 0.5068 - acc: 0.7879 - val_loss: 0.4809 - val_acc: 0.7803\n",
      "Epoch 14/70\n",
      "4200/4200 [==============================] - 30s - loss: 0.5039 - acc: 0.7926 - val_loss: 0.4570 - val_acc: 0.7915\n",
      "Epoch 15/70\n",
      "4200/4200 [==============================] - 30s - loss: 0.4952 - acc: 0.7967 - val_loss: 0.4670 - val_acc: 0.7758\n",
      "Epoch 16/70\n",
      "4200/4200 [==============================] - 30s - loss: 0.4878 - acc: 0.8010 - val_loss: 0.4595 - val_acc: 0.8049\n",
      "Epoch 17/70\n",
      "4200/4200 [==============================] - 30s - loss: 0.4915 - acc: 0.7981 - val_loss: 0.4887 - val_acc: 0.7578\n",
      "Epoch 18/70\n",
      "4200/4200 [==============================] - 30s - loss: 0.4847 - acc: 0.8052 - val_loss: 0.4691 - val_acc: 0.7848\n",
      "Epoch 19/70\n",
      "4200/4200 [==============================] - 30s - loss: 0.4809 - acc: 0.8138 - val_loss: 0.4763 - val_acc: 0.7937\n",
      "Epoch 20/70\n",
      "4200/4200 [==============================] - 30s - loss: 0.4715 - acc: 0.8150 - val_loss: 0.4662 - val_acc: 0.7780\n"
     ]
    },
    {
     "data": {
      "text/plain": [
       "<keras.callbacks.History at 0x167172cd0>"
      ]
     },
     "execution_count": 141,
     "metadata": {},
     "output_type": "execute_result"
    }
   ],
   "source": [
    "# fit the model \n",
    "early_stoppping = EarlyStopping(monitor='val_loss', patience=7, mode='auto')\n",
    "model.fit(train_X, train_Y, validation_data=[valid_X, valid_Y], nb_epoch=70,\n",
    "          callbacks=[early_stoppping])"
   ]
  },
  {
   "cell_type": "code",
   "execution_count": 143,
   "metadata": {
    "collapsed": false
   },
   "outputs": [
    {
     "data": {
      "text/plain": [
       "<matplotlib.legend.Legend at 0x148667210>"
      ]
     },
     "execution_count": 143,
     "metadata": {},
     "output_type": "execute_result"
    },
    {
     "data": {
      "image/png": "[encoded data removed]",
      "text/plain": [
       "<matplotlib.figure.Figure at 0x1671633d0>"
      ]
     },
     "metadata": {},
     "output_type": "display_data"
    }
   ],
   "source": [
    "%matplotlib inline\n",
    "figsize = (14,8)\n",
    "\n",
    "fig = plt.figure(figsize=figsize)\n",
    "ax = fig.add_subplot(2,1,1)\n",
    "ax.plot(model.history.history['val_acc'], label = 'validation set')\n",
    "ax.plot(model.history.history['acc'], label = 'test set')\n",
    "ax.set_ylabel('Predicition accuracy', fontsize='x-large')\n",
    "ax.text(5.5,0.8, \"Best validation accuracy {:.2%}\".format(\n",
    "                                max(model.history.history['val_acc'])\n",
    "                                            )\n",
    "        )\n",
    "ax.legend(loc=0)\n",
    "\n",
    "\n",
    "ax = fig.add_subplot(2,1,2)\n",
    "ax.plot(model.history.history['val_loss'], label = 'validation set')\n",
    "ax.plot(model.history.history['loss'], label = 'test_set')\n",
    "ax.set_ylabel('Loss',fontsize='x-large')\n",
    "ax.legend(loc=0)"
   ]
  },
  {
   "cell_type": "markdown",
   "metadata": {},
   "source": [
    "### conclusions:\n",
    "+ slight improvment on previous 2 conv 2 dense archtiecture 79.6 % -> 80.5 % \n",
    "+ reduced l2 regularization after 1st layer doesn't seem to lead to overiftting. \n",
    "+ from plots its not evident that we are in an overfitting sceneario or that training accuracy has converged so its possible that more trainign will lead to better performance with this architecture.\n",
    "    + stoping furthing train for now since we hope to find params/architectures that lead to definitively faster/more accurate learning"
   ]
  },
  {
   "cell_type": "markdown",
   "metadata": {},
   "source": [
    "## Test a (30,4,4) conv ->pool (2,2)  -> conv (80,5,7) -> maxpool (2,2) -> 2x dense 200 unit -> classifier network\n",
    "+ same l2 reg params as above but with more feature maps in the convolutional layers\n",
    "+ adding more convolutional feature maps is another way to make the model more expressive\n"
   ]
  },
  {
   "cell_type": "code",
   "execution_count": 146,
   "metadata": {
    "collapsed": true
   },
   "outputs": [],
   "source": [
    "inputs = Input(shape=(1,64,80),name='inputs')     \n",
    "\n",
    "x = Convolution2D(30,4, 4, input_shape=(1,64,80),\n",
    "                  activation='relu', \n",
    "                  border_mode='valid',\n",
    "                  name='conv1', \n",
    "                  W_regularizer = l2(l=0.01))(inputs)\n",
    "x= MaxPooling2D(pool_size=(2,2), border_mode= 'valid', name='maxpool1')(x)\n",
    "x=Dropout(p=0.2)(x)\n",
    "\n",
    "x =  Convolution2D(80,5, 7,\n",
    "                  activation='relu', \n",
    "                  border_mode='valid',\n",
    "                  name='conv2',\n",
    "                W_regularizer = l2(l=0.0001))(x)\n",
    "x= MaxPooling2D(pool_size=(2,2), border_mode= 'valid', name='maxpool2')(x)\n",
    "x=Dropout(p=0.5)(x)\n",
    "x= Flatten(name ='flatten')(x)\n",
    "\n",
    "x = Dense(200, activation='tanh',\n",
    "          name='dense1', init='he_normal', W_regularizer= l2(l=0.0001) )(x)\n",
    "x=Dropout(p=0.5)(x)\n",
    "x = Dense(200, activation='tanh',\n",
    "          name='dense2', init='he_normal', W_regularizer= l2(l=0.0001))(x)\n",
    "  \n",
    "predictions = Dense(2, activation='softmax', name='output')(x)\n",
    "\n",
    "model =Model(input=inputs, output= predictions)\n",
    "#sgd= SGD(lr = 0.01, momentum=0.9, nesterov=True)\n",
    "adam = Adam()\n",
    "\n",
    "model.compile(loss = 'categorical_crossentropy', optimizer=adam,\n",
    "             metrics=['accuracy'])"
   ]
  },
  {
   "cell_type": "code",
   "execution_count": 147,
   "metadata": {
    "collapsed": false
   },
   "outputs": [
    {
     "name": "stdout",
     "output_type": "stream",
     "text": [
      "Train on 4200 samples, validate on 446 samples\n",
      "Epoch 1/70\n",
      "4200/4200 [==============================] - 45s - loss: 0.7912 - acc: 0.6112 - val_loss: 0.6110 - val_acc: 0.6457\n",
      "Epoch 2/70\n",
      "4200/4200 [==============================] - 48s - loss: 0.6742 - acc: 0.6788 - val_loss: 0.5692 - val_acc: 0.7108\n",
      "Epoch 3/70\n",
      "4200/4200 [==============================] - 48s - loss: 0.6494 - acc: 0.6998 - val_loss: 0.5783 - val_acc: 0.7085\n",
      "Epoch 4/70\n",
      "4200/4200 [==============================] - 46s - loss: 0.6303 - acc: 0.7021 - val_loss: 0.5527 - val_acc: 0.7332\n",
      "Epoch 5/70\n",
      "4200/4200 [==============================] - 47s - loss: 0.6214 - acc: 0.7040 - val_loss: 0.5381 - val_acc: 0.7556\n",
      "Epoch 6/70\n",
      "4200/4200 [==============================] - 47s - loss: 0.5988 - acc: 0.7217 - val_loss: 0.5224 - val_acc: 0.7601\n",
      "Epoch 7/70\n",
      "4200/4200 [==============================] - 46s - loss: 0.5930 - acc: 0.7233 - val_loss: 0.5424 - val_acc: 0.7309\n",
      "Epoch 8/70\n",
      "4200/4200 [==============================] - 46s - loss: 0.5886 - acc: 0.7310 - val_loss: 0.5253 - val_acc: 0.7668\n",
      "Epoch 9/70\n",
      "4200/4200 [==============================] - 46s - loss: 0.5860 - acc: 0.7307 - val_loss: 0.5315 - val_acc: 0.7422\n",
      "Epoch 10/70\n",
      "4200/4200 [==============================] - 49s - loss: 0.5777 - acc: 0.7300 - val_loss: 0.5321 - val_acc: 0.7534\n",
      "Epoch 11/70\n",
      "4200/4200 [==============================] - 47s - loss: 0.5701 - acc: 0.7412 - val_loss: 0.5263 - val_acc: 0.7623\n",
      "Epoch 12/70\n",
      "4200/4200 [==============================] - 45s - loss: 0.5661 - acc: 0.7402 - val_loss: 0.5400 - val_acc: 0.7309\n",
      "Epoch 13/70\n",
      "4200/4200 [==============================] - 45s - loss: 0.5658 - acc: 0.7319 - val_loss: 0.5375 - val_acc: 0.7466\n",
      "Epoch 14/70\n",
      "4200/4200 [==============================] - 48s - loss: 0.5643 - acc: 0.7381 - val_loss: 0.5123 - val_acc: 0.7758\n",
      "Epoch 15/70\n",
      "4200/4200 [==============================] - 48s - loss: 0.5576 - acc: 0.7371 - val_loss: 0.5085 - val_acc: 0.7556\n",
      "Epoch 16/70\n",
      "4200/4200 [==============================] - 48s - loss: 0.5593 - acc: 0.7429 - val_loss: 0.4954 - val_acc: 0.7870\n",
      "Epoch 17/70\n",
      "4200/4200 [==============================] - 49s - loss: 0.5545 - acc: 0.7462 - val_loss: 0.4997 - val_acc: 0.7646\n",
      "Epoch 18/70\n",
      "4200/4200 [==============================] - 49s - loss: 0.5509 - acc: 0.7402 - val_loss: 0.4841 - val_acc: 0.7848\n",
      "Epoch 19/70\n",
      "4200/4200 [==============================] - 48s - loss: 0.5515 - acc: 0.7386 - val_loss: 0.5100 - val_acc: 0.7646\n",
      "Epoch 20/70\n",
      "4200/4200 [==============================] - 50s - loss: 0.5437 - acc: 0.7433 - val_loss: 0.4995 - val_acc: 0.7534\n",
      "Epoch 21/70\n",
      "4200/4200 [==============================] - 50s - loss: 0.5366 - acc: 0.7483 - val_loss: 0.5055 - val_acc: 0.7780\n",
      "Epoch 22/70\n",
      "4200/4200 [==============================] - 51s - loss: 0.5440 - acc: 0.7419 - val_loss: 0.4885 - val_acc: 0.7735\n",
      "Epoch 23/70\n",
      "4200/4200 [==============================] - 52s - loss: 0.5388 - acc: 0.7493 - val_loss: 0.4959 - val_acc: 0.7758\n",
      "Epoch 24/70\n",
      "4200/4200 [==============================] - 55s - loss: 0.5448 - acc: 0.7462 - val_loss: 0.5174 - val_acc: 0.7466\n",
      "Epoch 25/70\n",
      "4200/4200 [==============================] - 53s - loss: 0.5403 - acc: 0.7452 - val_loss: 0.5061 - val_acc: 0.7758\n",
      "Epoch 26/70\n",
      "4200/4200 [==============================] - 55s - loss: 0.5358 - acc: 0.7500 - val_loss: 0.4870 - val_acc: 0.7780\n"
     ]
    },
    {
     "data": {
      "text/plain": [
       "<keras.callbacks.History at 0x14ccde6d0>"
      ]
     },
     "execution_count": 147,
     "metadata": {},
     "output_type": "execute_result"
    }
   ],
   "source": [
    "# fit the model \n",
    "early_stoppping = EarlyStopping(monitor='val_loss', patience=7, mode='auto')\n",
    "model.fit(train_X, train_Y, validation_data=[valid_X, valid_Y], nb_epoch=70,\n",
    "          callbacks=[early_stoppping])"
   ]
  },
  {
   "cell_type": "code",
   "execution_count": null,
   "metadata": {
    "collapsed": false
   },
   "outputs": [
    {
     "name": "stdout",
     "output_type": "stream",
     "text": [
      "Train on 4200 samples, validate on 446 samples\n",
      "Epoch 1/50\n",
      "4200/4200 [==============================] - 57s - loss: 0.5330 - acc: 0.7545 - val_loss: 0.4822 - val_acc: 0.7691\n",
      "Epoch 2/50\n",
      "4200/4200 [==============================] - 59s - loss: 0.5290 - acc: 0.7586 - val_loss: 0.4973 - val_acc: 0.7668\n",
      "Epoch 3/50\n",
      "4200/4200 [==============================] - 63s - loss: 0.5311 - acc: 0.7560 - val_loss: 0.4978 - val_acc: 0.7735\n",
      "Epoch 4/50\n",
      "4200/4200 [==============================] - 65s - loss: 0.5289 - acc: 0.7524 - val_loss: 0.4854 - val_acc: 0.7780\n",
      "Epoch 5/50\n",
      "4200/4200 [==============================] - 65s - loss: 0.5316 - acc: 0.7519 - val_loss: 0.4876 - val_acc: 0.7780\n",
      "Epoch 6/50\n",
      "4200/4200 [==============================] - 69s - loss: 0.5302 - acc: 0.7548 - val_loss: 0.5008 - val_acc: 0.7825\n",
      "Epoch 7/50\n",
      "4200/4200 [==============================] - 71s - loss: 0.5214 - acc: 0.7662 - val_loss: 0.4886 - val_acc: 0.7735\n",
      "Epoch 8/50\n",
      "1664/4200 [==========>...................] - ETA: 45s - loss: 0.5066 - acc: 0.7680"
     ]
    }
   ],
   "source": [
    "# fit continue training\n",
    "early_stoppping = EarlyStopping(monitor='val_loss', patience=15, mode='auto')\n",
    "model.fit(train_X, train_Y, validation_data=[valid_X, valid_Y], nb_epoch=50,\n",
    "          callbacks=[early_stoppping])"
   ]
  },
  {
   "cell_type": "markdown",
   "metadata": {},
   "source": [
    "## Test a (20,4,4) conv ->pool (2,2)  -> conv (50,5,7) -> maxpool (2,2) -> 2x dense 200 unit -> classifier network\n",
    "(same network as above but with l2 regularization param 0.01 in colvolutional layers and l2 regularization params 10^(-4) in dense layers) "
   ]
  },
  {
   "cell_type": "markdown",
   "metadata": {},
   "source": [
    "  # THERE IS ERROR HERE WITH INPUT TO SECOND CONV LAYER"
   ]
  },
  {
   "cell_type": "code",
   "execution_count": 112,
   "metadata": {
    "collapsed": true
   },
   "outputs": [],
   "source": [
    "inputs = Input(shape=(1,64,80),name='inputs')     \n",
    "\n",
    "x = Convolution2D(20,4, 4, input_shape=(1,64,80),\n",
    "                  activation='relu', \n",
    "                  border_mode='valid',\n",
    "                  name='conv1', \n",
    "                  W_regularizer = l2(l=0.01))(inputs)\n",
    "x= MaxPooling2D(pool_size=(2,2), border_mode= 'valid', name='maxpool1')(x)\n",
    "x=Dropout(p=0.2)(x)\n",
    "\n",
    "x =  Convolution2D(50,5, 7,\n",
    "                  activation='relu', \n",
    "                  border_mode='valid',\n",
    "                  name='conv2',\n",
    "                W_regularizer = l2(l=0.01))(inputs)\n",
    "x= MaxPooling2D(pool_size=(2,2), border_mode= 'valid', name='maxpool2')(x)\n",
    "x=Dropout(p=0.5)(x)\n",
    "x= Flatten(name ='flatten')(x)\n",
    "\n",
    "x = Dense(200, activation='tanh',\n",
    "          name='dense1', init='he_normal', W_regularizer= l2(l=0.0001) )(x)\n",
    "x=Dropout(p=0.5)(x)\n",
    "x = Dense(200, activation='tanh',\n",
    "          name='dense2', init='he_normal', W_regularizer= l2(l=0.0001))(x)\n",
    "  \n",
    "predictions = Dense(2, activation='softmax', name='output')(x)\n",
    "\n",
    "model =Model(input=inputs, output= predictions)\n",
    "#sgd= SGD(lr = 0.01, momentum=0.9, nesterov=True)\n",
    "adam = Adam()\n",
    "\n",
    "model.compile(loss = 'categorical_crossentropy', optimizer=adam,\n",
    "             metrics=['accuracy'])"
   ]
  },
  {
   "cell_type": "code",
   "execution_count": 113,
   "metadata": {
    "collapsed": false
   },
   "outputs": [
    {
     "name": "stdout",
     "output_type": "stream",
     "text": [
      "Train on 4200 samples, validate on 446 samples\n",
      "Epoch 1/50\n",
      "4200/4200 [==============================] - 40s - loss: 0.8007 - acc: 0.6245 - val_loss: 0.5230 - val_acc: 0.7354\n",
      "Epoch 2/50\n",
      "4200/4200 [==============================] - 38s - loss: 0.6793 - acc: 0.7412 - val_loss: 0.4757 - val_acc: 0.7691\n",
      "Epoch 3/50\n",
      "4200/4200 [==============================] - 39s - loss: 0.6464 - acc: 0.7776 - val_loss: 0.4881 - val_acc: 0.7601\n",
      "Epoch 4/50\n",
      "4200/4200 [==============================] - 39s - loss: 0.6365 - acc: 0.7983 - val_loss: 0.4461 - val_acc: 0.7915\n",
      "Epoch 5/50\n",
      "4200/4200 [==============================] - 38s - loss: 0.6272 - acc: 0.8171 - val_loss: 0.4960 - val_acc: 0.7668\n",
      "Epoch 6/50\n",
      "4200/4200 [==============================] - 38s - loss: 0.6228 - acc: 0.8286 - val_loss: 0.4909 - val_acc: 0.7960\n",
      "Epoch 7/50\n",
      "4200/4200 [==============================] - 38s - loss: 0.6247 - acc: 0.8383 - val_loss: 0.4714 - val_acc: 0.7780\n",
      "Epoch 8/50\n",
      "4200/4200 [==============================] - 38s - loss: 0.6228 - acc: 0.8433 - val_loss: 0.4862 - val_acc: 0.7803\n",
      "Epoch 9/50\n",
      "4200/4200 [==============================] - 38s - loss: 0.6187 - acc: 0.8500 - val_loss: 0.4666 - val_acc: 0.7825\n",
      "Epoch 10/50\n",
      "4200/4200 [==============================] - 38s - loss: 0.6092 - acc: 0.8590 - val_loss: 0.5086 - val_acc: 0.7803\n",
      "Epoch 11/50\n",
      "4200/4200 [==============================] - 38s - loss: 0.6060 - acc: 0.8557 - val_loss: 0.5034 - val_acc: 0.7848\n",
      "Epoch 12/50\n",
      "4200/4200 [==============================] - 38s - loss: 0.5954 - acc: 0.8660 - val_loss: 0.5163 - val_acc: 0.7960\n",
      "Epoch 13/50\n",
      "4200/4200 [==============================] - 39s - loss: 0.5909 - acc: 0.8710 - val_loss: 0.5446 - val_acc: 0.7713\n",
      "Epoch 14/50\n",
      "4200/4200 [==============================] - 39s - loss: 0.5880 - acc: 0.8721 - val_loss: 0.5456 - val_acc: 0.7803\n",
      "Epoch 15/50\n",
      "4200/4200 [==============================] - 39s - loss: 0.5827 - acc: 0.8726 - val_loss: 0.5226 - val_acc: 0.7780\n"
     ]
    },
    {
     "data": {
      "text/plain": [
       "<keras.callbacks.History at 0x14bf8c1d0>"
      ]
     },
     "execution_count": 113,
     "metadata": {},
     "output_type": "execute_result"
    }
   ],
   "source": [
    "# fit the model \n",
    "early_stoppping = EarlyStopping(monitor='val_loss', patience=10, mode='auto')\n",
    "model.fit(train_X, train_Y, validation_data=[valid_X, valid_Y], nb_epoch=50,\n",
    "          callbacks=[early_stoppping])"
   ]
  },
  {
   "cell_type": "code",
   "execution_count": 115,
   "metadata": {
    "collapsed": false
   },
   "outputs": [
    {
     "data": {
      "text/plain": [
       "<matplotlib.legend.Legend at 0x134030ed0>"
      ]
     },
     "execution_count": 115,
     "metadata": {},
     "output_type": "execute_result"
    },
    {
     "data": {
      "image/png": "[encoded data removed]",
      "text/plain": [
       "<matplotlib.figure.Figure at 0x133e7a750>"
      ]
     },
     "metadata": {},
     "output_type": "display_data"
    }
   ],
   "source": [
    "%matplotlib inline\n",
    "figsize = (14,8)\n",
    "\n",
    "fig = plt.figure(figsize=figsize)\n",
    "ax = fig.add_subplot(2,1,1)\n",
    "ax.plot(model.history.history['val_acc'], label = 'validation set')\n",
    "ax.plot(model.history.history['acc'], label = 'test set')\n",
    "ax.set_ylabel('Predicition accuracy', fontsize='x-large')\n",
    "ax.text(6.5,0.7, \"Best validation accuracy {:.2%}\".format(\n",
    "                                max(model.history.history['val_acc'])\n",
    "                                            )\n",
    "        )\n",
    "ax.legend(loc=0)\n",
    "\n",
    "\n",
    "ax = fig.add_subplot(2,1,2)\n",
    "ax.plot(model.history.history['val_loss'], label = 'validation set')\n",
    "ax.plot(model.history.history['loss'], label = 'test_set')\n",
    "ax.set_ylabel('Loss',fontsize='x-large')\n",
    "ax.legend(loc=0)"
   ]
  },
  {
   "cell_type": "markdown",
   "metadata": {},
   "source": [
    "Conclusion: the l2 reg param  10^(-4) for dense layers is too small (not enough regularization). Increase and try again"
   ]
  },
  {
   "cell_type": "markdown",
   "metadata": {},
   "source": [
    "# THERE IS ERROR HERE WITH INPUT TO SECOND CONV LAYER"
   ]
  },
  {
   "cell_type": "code",
   "execution_count": 116,
   "metadata": {
    "collapsed": true
   },
   "outputs": [],
   "source": [
    "inputs = Input(shape=(1,64,80),name='inputs')     \n",
    "\n",
    "x = Convolution2D(20,4, 4, input_shape=(1,64,80),\n",
    "                  activation='relu', \n",
    "                  border_mode='valid',\n",
    "                  name='conv1', \n",
    "                  W_regularizer = l2(l=0.01))(inputs)\n",
    "x= MaxPooling2D(pool_size=(2,2), border_mode= 'valid', name='maxpool1')(x)\n",
    "x=Dropout(p=0.2)(x)\n",
    "\n",
    "x =  Convolution2D(50,5, 7,\n",
    "                  activation='relu', \n",
    "                  border_mode='valid',\n",
    "                  name='conv2',\n",
    "                W_regularizer = l2(l=0.01))(inputs)\n",
    "x= MaxPooling2D(pool_size=(2,2), border_mode= 'valid', name='maxpool2')(x)\n",
    "x=Dropout(p=0.5)(x)\n",
    "x= Flatten(name ='flatten')(x)\n",
    "\n",
    "x = Dense(200, activation='tanh',\n",
    "          name='dense1', init='he_normal', W_regularizer= l2(l=0.001) )(x)\n",
    "x=Dropout(p=0.5)(x)\n",
    "x = Dense(200, activation='tanh',\n",
    "          name='dense2', init='he_normal', W_regularizer= l2(l=0.001))(x)\n",
    "  \n",
    "predictions = Dense(2, activation='softmax', name='output')(x)\n",
    "\n",
    "model =Model(input=inputs, output= predictions)\n",
    "#sgd= SGD(lr = 0.01, momentum=0.9, nesterov=True)\n",
    "adam = Adam()\n",
    "\n",
    "model.compile(loss = 'categorical_crossentropy', optimizer=adam,\n",
    "             metrics=['accuracy']) "
   ]
  },
  {
   "cell_type": "code",
   "execution_count": 117,
   "metadata": {
    "collapsed": false
   },
   "outputs": [
    {
     "name": "stdout",
     "output_type": "stream",
     "text": [
      "Train on 4200 samples, validate on 446 samples\n",
      "Epoch 1/50\n",
      "4200/4200 [==============================] - 39s - loss: 1.4494 - acc: 0.6019 - val_loss: 0.5366 - val_acc: 0.7175\n",
      "Epoch 2/50\n",
      "4200/4200 [==============================] - 39s - loss: 1.1085 - acc: 0.7376 - val_loss: 0.4932 - val_acc: 0.7646\n",
      "Epoch 3/50\n",
      "4200/4200 [==============================] - 39s - loss: 0.9793 - acc: 0.7702 - val_loss: 0.4794 - val_acc: 0.7691\n",
      "Epoch 4/50\n",
      "4200/4200 [==============================] - 38s - loss: 0.9227 - acc: 0.7817 - val_loss: 0.4664 - val_acc: 0.7803\n",
      "Epoch 5/50\n",
      "4200/4200 [==============================] - 38s - loss: 0.8701 - acc: 0.7914 - val_loss: 0.4464 - val_acc: 0.7915\n",
      "Epoch 6/50\n",
      "4200/4200 [==============================] - 38s - loss: 0.8198 - acc: 0.7945 - val_loss: 0.4667 - val_acc: 0.7735\n",
      "Epoch 7/50\n",
      "4200/4200 [==============================] - 40s - loss: 0.7879 - acc: 0.7979 - val_loss: 0.4662 - val_acc: 0.7803\n",
      "Epoch 8/50\n",
      "4200/4200 [==============================] - 44s - loss: 0.7428 - acc: 0.8050 - val_loss: 0.4579 - val_acc: 0.7892\n",
      "Epoch 9/50\n",
      "4200/4200 [==============================] - 45s - loss: 0.7255 - acc: 0.8133 - val_loss: 0.4635 - val_acc: 0.7870\n",
      "Epoch 10/50\n",
      "4200/4200 [==============================] - 41s - loss: 0.7263 - acc: 0.8174 - val_loss: 0.4456 - val_acc: 0.7780\n",
      "Epoch 11/50\n",
      "4200/4200 [==============================] - 42s - loss: 0.7222 - acc: 0.8195 - val_loss: 0.4705 - val_acc: 0.7848\n",
      "Epoch 12/50\n",
      "4200/4200 [==============================] - 44s - loss: 0.6863 - acc: 0.8324 - val_loss: 0.4803 - val_acc: 0.7803\n",
      "Epoch 13/50\n",
      "4200/4200 [==============================] - 46s - loss: 0.6775 - acc: 0.8214 - val_loss: 0.4643 - val_acc: 0.7758\n",
      "Epoch 14/50\n",
      "4200/4200 [==============================] - 54s - loss: 0.6817 - acc: 0.8307 - val_loss: 0.4469 - val_acc: 0.7848\n",
      "Epoch 15/50\n",
      "4200/4200 [==============================] - 62s - loss: 0.6733 - acc: 0.8310 - val_loss: 0.4508 - val_acc: 0.7982\n",
      "Epoch 16/50\n",
      "4200/4200 [==============================] - 65s - loss: 0.6684 - acc: 0.8300 - val_loss: 0.4546 - val_acc: 0.7848\n",
      "Epoch 17/50\n",
      "4200/4200 [==============================] - 69s - loss: 0.6767 - acc: 0.8364 - val_loss: 0.4503 - val_acc: 0.8049\n",
      "Epoch 18/50\n",
      "4200/4200 [==============================] - 76s - loss: 0.6673 - acc: 0.8471 - val_loss: 0.4787 - val_acc: 0.7758\n",
      "Epoch 19/50\n",
      "4200/4200 [==============================] - 79s - loss: 0.6762 - acc: 0.8357 - val_loss: 0.4560 - val_acc: 0.7870\n",
      "Epoch 20/50\n",
      "4200/4200 [==============================] - 78s - loss: 0.6492 - acc: 0.8400 - val_loss: 0.4455 - val_acc: 0.7892\n",
      "Epoch 21/50\n",
      "4200/4200 [==============================] - 79s - loss: 0.6378 - acc: 0.8457 - val_loss: 0.4467 - val_acc: 0.7825\n",
      "Epoch 22/50\n",
      "4200/4200 [==============================] - 81s - loss: 0.6416 - acc: 0.8419 - val_loss: 0.4624 - val_acc: 0.7937\n",
      "Epoch 23/50\n",
      "4200/4200 [==============================] - 84s - loss: 0.6277 - acc: 0.8431 - val_loss: 0.4515 - val_acc: 0.7892\n",
      "Epoch 24/50\n",
      "4200/4200 [==============================] - 90s - loss: 0.6350 - acc: 0.8500 - val_loss: 0.4547 - val_acc: 0.7870\n",
      "Epoch 25/50\n",
      "4200/4200 [==============================] - 94s - loss: 0.6541 - acc: 0.8498 - val_loss: 0.4532 - val_acc: 0.7892\n",
      "Epoch 26/50\n",
      "4200/4200 [==============================] - 97s - loss: 0.6632 - acc: 0.8455 - val_loss: 0.4744 - val_acc: 0.7937\n",
      "Epoch 27/50\n",
      "4200/4200 [==============================] - 102s - loss: 0.6586 - acc: 0.8467 - val_loss: 0.4685 - val_acc: 0.7848\n",
      "Epoch 28/50\n",
      "4200/4200 [==============================] - 102s - loss: 0.6149 - acc: 0.8571 - val_loss: 0.4884 - val_acc: 0.7870\n",
      "Epoch 29/50\n",
      "3072/4200 [====================>.........] - ETA: 27s - loss: 0.6095 - acc: 0.8630"
     ]
    },
    {
     "ename": "KeyboardInterrupt",
     "evalue": "",
     "output_type": "error",
     "traceback": [
      "\u001b[0;31m---------------------------------------------------------------------------\u001b[0m",
      "\u001b[0;31mKeyboardInterrupt\u001b[0m                         Traceback (most recent call last)",
      "\u001b[0;32m<ipython-input-117-fa4751acff96>\u001b[0m in \u001b[0;36m<module>\u001b[0;34m()\u001b[0m\n\u001b[1;32m      2\u001b[0m \u001b[0mearly_stoppping\u001b[0m \u001b[0;34m=\u001b[0m \u001b[0mEarlyStopping\u001b[0m\u001b[0;34m(\u001b[0m\u001b[0mmonitor\u001b[0m\u001b[0;34m=\u001b[0m\u001b[0;34m'val_loss'\u001b[0m\u001b[0;34m,\u001b[0m \u001b[0mpatience\u001b[0m\u001b[0;34m=\u001b[0m\u001b[0;36m10\u001b[0m\u001b[0;34m,\u001b[0m \u001b[0mmode\u001b[0m\u001b[0;34m=\u001b[0m\u001b[0;34m'auto'\u001b[0m\u001b[0;34m)\u001b[0m\u001b[0;34m\u001b[0m\u001b[0m\n\u001b[1;32m      3\u001b[0m model.fit(train_X, train_Y, validation_data=[valid_X, valid_Y], nb_epoch=50,\n\u001b[0;32m----> 4\u001b[0;31m           callbacks=[early_stoppping])\n\u001b[0m",
      "\u001b[0;32m/Users/afinneg2/Library/Enthought/Canopy_64bit/User/lib/python2.7/site-packages/keras/engine/training.pyc\u001b[0m in \u001b[0;36mfit\u001b[0;34m(self, x, y, batch_size, nb_epoch, verbose, callbacks, validation_split, validation_data, shuffle, class_weight, sample_weight)\u001b[0m\n\u001b[1;32m   1051\u001b[0m                               \u001b[0mverbose\u001b[0m\u001b[0;34m=\u001b[0m\u001b[0mverbose\u001b[0m\u001b[0;34m,\u001b[0m \u001b[0mcallbacks\u001b[0m\u001b[0;34m=\u001b[0m\u001b[0mcallbacks\u001b[0m\u001b[0;34m,\u001b[0m\u001b[0;34m\u001b[0m\u001b[0m\n\u001b[1;32m   1052\u001b[0m                               \u001b[0mval_f\u001b[0m\u001b[0;34m=\u001b[0m\u001b[0mval_f\u001b[0m\u001b[0;34m,\u001b[0m \u001b[0mval_ins\u001b[0m\u001b[0;34m=\u001b[0m\u001b[0mval_ins\u001b[0m\u001b[0;34m,\u001b[0m \u001b[0mshuffle\u001b[0m\u001b[0;34m=\u001b[0m\u001b[0mshuffle\u001b[0m\u001b[0;34m,\u001b[0m\u001b[0;34m\u001b[0m\u001b[0m\n\u001b[0;32m-> 1053\u001b[0;31m                               callback_metrics=callback_metrics)\n\u001b[0m\u001b[1;32m   1054\u001b[0m \u001b[0;34m\u001b[0m\u001b[0m\n\u001b[1;32m   1055\u001b[0m     \u001b[0;32mdef\u001b[0m \u001b[0mevaluate\u001b[0m\u001b[0;34m(\u001b[0m\u001b[0mself\u001b[0m\u001b[0;34m,\u001b[0m \u001b[0mx\u001b[0m\u001b[0;34m,\u001b[0m \u001b[0my\u001b[0m\u001b[0;34m,\u001b[0m \u001b[0mbatch_size\u001b[0m\u001b[0;34m=\u001b[0m\u001b[0;36m32\u001b[0m\u001b[0;34m,\u001b[0m \u001b[0mverbose\u001b[0m\u001b[0;34m=\u001b[0m\u001b[0;36m1\u001b[0m\u001b[0;34m,\u001b[0m \u001b[0msample_weight\u001b[0m\u001b[0;34m=\u001b[0m\u001b[0mNone\u001b[0m\u001b[0;34m)\u001b[0m\u001b[0;34m:\u001b[0m\u001b[0;34m\u001b[0m\u001b[0m\n",
      "\u001b[0;32m/Users/afinneg2/Library/Enthought/Canopy_64bit/User/lib/python2.7/site-packages/keras/engine/training.pyc\u001b[0m in \u001b[0;36m_fit_loop\u001b[0;34m(self, f, ins, out_labels, batch_size, nb_epoch, verbose, callbacks, val_f, val_ins, shuffle, callback_metrics)\u001b[0m\n\u001b[1;32m    789\u001b[0m                 \u001b[0mbatch_logs\u001b[0m\u001b[0;34m[\u001b[0m\u001b[0;34m'size'\u001b[0m\u001b[0;34m]\u001b[0m \u001b[0;34m=\u001b[0m \u001b[0mlen\u001b[0m\u001b[0;34m(\u001b[0m\u001b[0mbatch_ids\u001b[0m\u001b[0;34m)\u001b[0m\u001b[0;34m\u001b[0m\u001b[0m\n\u001b[1;32m    790\u001b[0m                 \u001b[0mcallbacks\u001b[0m\u001b[0;34m.\u001b[0m\u001b[0mon_batch_begin\u001b[0m\u001b[0;34m(\u001b[0m\u001b[0mbatch_index\u001b[0m\u001b[0;34m,\u001b[0m \u001b[0mbatch_logs\u001b[0m\u001b[0;34m)\u001b[0m\u001b[0;34m\u001b[0m\u001b[0m\n\u001b[0;32m--> 791\u001b[0;31m                 \u001b[0mouts\u001b[0m \u001b[0;34m=\u001b[0m \u001b[0mf\u001b[0m\u001b[0;34m(\u001b[0m\u001b[0mins_batch\u001b[0m\u001b[0;34m)\u001b[0m\u001b[0;34m\u001b[0m\u001b[0m\n\u001b[0m\u001b[1;32m    792\u001b[0m                 \u001b[0;32mif\u001b[0m \u001b[0mtype\u001b[0m\u001b[0;34m(\u001b[0m\u001b[0mouts\u001b[0m\u001b[0;34m)\u001b[0m \u001b[0;34m!=\u001b[0m \u001b[0mlist\u001b[0m\u001b[0;34m:\u001b[0m\u001b[0;34m\u001b[0m\u001b[0m\n\u001b[1;32m    793\u001b[0m                     \u001b[0mouts\u001b[0m \u001b[0;34m=\u001b[0m \u001b[0;34m[\u001b[0m\u001b[0mouts\u001b[0m\u001b[0;34m]\u001b[0m\u001b[0;34m\u001b[0m\u001b[0m\n",
      "\u001b[0;32m/Users/afinneg2/Library/Enthought/Canopy_64bit/User/lib/python2.7/site-packages/keras/backend/theano_backend.pyc\u001b[0m in \u001b[0;36m__call__\u001b[0;34m(self, inputs)\u001b[0m\n\u001b[1;32m    516\u001b[0m     \u001b[0;32mdef\u001b[0m \u001b[0m__call__\u001b[0m\u001b[0;34m(\u001b[0m\u001b[0mself\u001b[0m\u001b[0;34m,\u001b[0m \u001b[0minputs\u001b[0m\u001b[0;34m)\u001b[0m\u001b[0;34m:\u001b[0m\u001b[0;34m\u001b[0m\u001b[0m\n\u001b[1;32m    517\u001b[0m         \u001b[0;32massert\u001b[0m \u001b[0mtype\u001b[0m\u001b[0;34m(\u001b[0m\u001b[0minputs\u001b[0m\u001b[0;34m)\u001b[0m \u001b[0;32min\u001b[0m \u001b[0;34m{\u001b[0m\u001b[0mlist\u001b[0m\u001b[0;34m,\u001b[0m \u001b[0mtuple\u001b[0m\u001b[0;34m}\u001b[0m\u001b[0;34m\u001b[0m\u001b[0m\n\u001b[0;32m--> 518\u001b[0;31m         \u001b[0;32mreturn\u001b[0m \u001b[0mself\u001b[0m\u001b[0;34m.\u001b[0m\u001b[0mfunction\u001b[0m\u001b[0;34m(\u001b[0m\u001b[0;34m*\u001b[0m\u001b[0minputs\u001b[0m\u001b[0;34m)\u001b[0m\u001b[0;34m\u001b[0m\u001b[0m\n\u001b[0m\u001b[1;32m    519\u001b[0m \u001b[0;34m\u001b[0m\u001b[0m\n\u001b[1;32m    520\u001b[0m \u001b[0;34m\u001b[0m\u001b[0m\n",
      "\u001b[0;32m/Users/afinneg2/Library/Enthought/Canopy_64bit/User/lib/python2.7/site-packages/theano/compile/function_module.pyc\u001b[0m in \u001b[0;36m__call__\u001b[0;34m(self, *args, **kwargs)\u001b[0m\n\u001b[1;32m    857\u001b[0m         \u001b[0mt0_fn\u001b[0m \u001b[0;34m=\u001b[0m \u001b[0mtime\u001b[0m\u001b[0;34m.\u001b[0m\u001b[0mtime\u001b[0m\u001b[0;34m(\u001b[0m\u001b[0;34m)\u001b[0m\u001b[0;34m\u001b[0m\u001b[0m\n\u001b[1;32m    858\u001b[0m         \u001b[0;32mtry\u001b[0m\u001b[0;34m:\u001b[0m\u001b[0;34m\u001b[0m\u001b[0m\n\u001b[0;32m--> 859\u001b[0;31m             \u001b[0moutputs\u001b[0m \u001b[0;34m=\u001b[0m \u001b[0mself\u001b[0m\u001b[0;34m.\u001b[0m\u001b[0mfn\u001b[0m\u001b[0;34m(\u001b[0m\u001b[0;34m)\u001b[0m\u001b[0;34m\u001b[0m\u001b[0m\n\u001b[0m\u001b[1;32m    860\u001b[0m         \u001b[0;32mexcept\u001b[0m \u001b[0mException\u001b[0m\u001b[0;34m:\u001b[0m\u001b[0;34m\u001b[0m\u001b[0m\n\u001b[1;32m    861\u001b[0m             \u001b[0;32mif\u001b[0m \u001b[0mhasattr\u001b[0m\u001b[0;34m(\u001b[0m\u001b[0mself\u001b[0m\u001b[0;34m.\u001b[0m\u001b[0mfn\u001b[0m\u001b[0;34m,\u001b[0m \u001b[0;34m'position_of_error'\u001b[0m\u001b[0;34m)\u001b[0m\u001b[0;34m:\u001b[0m\u001b[0;34m\u001b[0m\u001b[0m\n",
      "\u001b[0;31mKeyboardInterrupt\u001b[0m: "
     ]
    }
   ],
   "source": [
    "# fit the model \n",
    "early_stoppping = EarlyStopping(monitor='val_loss', patience=10, mode='auto')\n",
    "model.fit(train_X, train_Y, validation_data=[valid_X, valid_Y], nb_epoch=50,\n",
    "          callbacks=[early_stoppping])"
   ]
  },
  {
   "cell_type": "code",
   "execution_count": 118,
   "metadata": {
    "collapsed": false
   },
   "outputs": [
    {
     "data": {
      "text/plain": [
       "<matplotlib.legend.Legend at 0x15b28eb10>"
      ]
     },
     "execution_count": 118,
     "metadata": {},
     "output_type": "execute_result"
    },
    {
     "data": {
      "image/png": "[encoded data removed]",
      "text/plain": [
       "<matplotlib.figure.Figure at 0x167e5fb90>"
      ]
     },
     "metadata": {},
     "output_type": "display_data"
    }
   ],
   "source": [
    "%matplotlib inline\n",
    "figsize = (14,8)\n",
    "\n",
    "fig = plt.figure(figsize=figsize)\n",
    "ax = fig.add_subplot(2,1,1)\n",
    "ax.plot(model.history.history['val_acc'], label = 'validation set')\n",
    "ax.plot(model.history.history['acc'], label = 'test set')\n",
    "ax.set_ylabel('Predicition accuracy', fontsize='x-large')\n",
    "ax.text(6.5,0.7, \"Best validation accuracy {:.2%}\".format(\n",
    "                                max(model.history.history['val_acc'])\n",
    "                                            )\n",
    "        )\n",
    "ax.legend(loc=0)\n",
    "\n",
    "\n",
    "ax = fig.add_subplot(2,1,2)\n",
    "ax.plot(model.history.history['val_loss'], label = 'validation set')\n",
    "ax.plot(model.history.history['loss'], label = 'test_set')\n",
    "ax.set_ylabel('Loss',fontsize='x-large')\n",
    "ax.legend(loc=0)"
   ]
  },
  {
   "cell_type": "markdown",
   "metadata": {},
   "source": [
    "Conclustion:\n",
    "+ l2 regularization param of 0.001 for dense layers "
   ]
  },
  {
   "cell_type": "code",
   "execution_count": 119,
   "metadata": {
    "collapsed": true
   },
   "outputs": [],
   "source": [
    "inputs = Input(shape=(1,64,80),name='inputs')     \n",
    "\n",
    "x = Convolution2D(30,3, 3, input_shape=(1,64,80),\n",
    "                  activation='relu', \n",
    "                  border_mode='valid',\n",
    "                  name='conv1', \n",
    "                  W_regularizer = l2(l=0.01))(inputs)\n",
    "x= MaxPooling2D(pool_size=(2,2), border_mode= 'valid', name='maxpool1')(x)\n",
    "x=Dropout(p=0.2)(x)\n",
    "\n",
    "x =  Convolution2D(50,5, 5,\n",
    "                  activation='relu', \n",
    "                  border_mode='valid',\n",
    "                  name='conv2',\n",
    "                W_regularizer = l2(l=0.01))(inputs)\n",
    "x= MaxPooling2D(pool_size=(2,2), border_mode= 'valid', name='maxpool2')(x)\n",
    "x=Dropout(p=0.5)(x)\n",
    "\n",
    "x =  Convolution2D(50,8, 10,\n",
    "                  activation='relu', \n",
    "                  border_mode='valid',\n",
    "                  name='conv3',\n",
    "                W_regularizer = l2(l=0.01))(inputs)\n",
    "x= MaxPooling2D(pool_size=(2,2), border_mode= 'valid', name='maxpool3')(x)\n",
    "x=Dropout(p=0.5)(x)\n",
    "\n",
    "\n",
    "x= Flatten(name ='flatten')(x)\n",
    "x = Dense(200, activation='tanh',\n",
    "          name='dense1', init='he_normal', W_regularizer= l2(l=0.001) )(x)\n",
    "x=Dropout(p=0.5)(x)\n",
    "x = Dense(200, activation='tanh',\n",
    "          name='dense2', init='he_normal', W_regularizer= l2(l=0.001))(x)\n",
    "  \n",
    "predictions = Dense(2, activation='softmax', name='output')(x)\n",
    "\n",
    "model =Model(input=inputs, output= predictions)\n",
    "#sgd= SGD(lr = 0.01, momentum=0.9, nesterov=True)\n",
    "adam = Adam()\n",
    "\n",
    "model.compile(loss = 'categorical_crossentropy', optimizer=adam,\n",
    "             metrics=['accuracy'])"
   ]
  },
  {
   "cell_type": "code",
   "execution_count": 120,
   "metadata": {
    "collapsed": false
   },
   "outputs": [
    {
     "name": "stdout",
     "output_type": "stream",
     "text": [
      "Train on 4200 samples, validate on 446 samples\n",
      "Epoch 1/50\n",
      "4200/4200 [==============================] - 38s - loss: 1.4332 - acc: 0.6290 - val_loss: 0.6698 - val_acc: 0.6166\n",
      "Epoch 2/50\n",
      "4200/4200 [==============================] - 37s - loss: 1.2280 - acc: 0.7145 - val_loss: 0.5283 - val_acc: 0.7309\n",
      "Epoch 3/50\n",
      "4200/4200 [==============================] - 37s - loss: 1.1416 - acc: 0.7457 - val_loss: 0.4988 - val_acc: 0.7646\n",
      "Epoch 4/50\n",
      "4200/4200 [==============================] - 36s - loss: 1.0153 - acc: 0.7745 - val_loss: 0.4799 - val_acc: 0.7713\n",
      "Epoch 5/50\n",
      "4200/4200 [==============================] - 36s - loss: 0.9388 - acc: 0.7921 - val_loss: 0.4841 - val_acc: 0.7713\n",
      "Epoch 6/50\n",
      "4200/4200 [==============================] - 36s - loss: 0.8864 - acc: 0.7905 - val_loss: 0.4816 - val_acc: 0.7691\n",
      "Epoch 7/50\n",
      "4200/4200 [==============================] - 36s - loss: 0.8228 - acc: 0.7990 - val_loss: 0.4562 - val_acc: 0.7915\n",
      "Epoch 8/50\n",
      "4200/4200 [==============================] - 38s - loss: 0.7851 - acc: 0.8102 - val_loss: 0.5060 - val_acc: 0.7489\n",
      "Epoch 9/50\n",
      "4200/4200 [==============================] - 39s - loss: 0.7913 - acc: 0.8005 - val_loss: 0.5000 - val_acc: 0.7713\n",
      "Epoch 10/50\n",
      "4200/4200 [==============================] - 41s - loss: 0.7742 - acc: 0.8069 - val_loss: 0.4530 - val_acc: 0.7758\n",
      "Epoch 11/50\n",
      "4200/4200 [==============================] - 43s - loss: 0.7371 - acc: 0.8107 - val_loss: 0.4417 - val_acc: 0.7937\n",
      "Epoch 12/50\n",
      "4200/4200 [==============================] - 41s - loss: 0.7036 - acc: 0.8226 - val_loss: 0.4626 - val_acc: 0.7803\n",
      "Epoch 13/50\n",
      "4200/4200 [==============================] - 39s - loss: 0.7054 - acc: 0.8183 - val_loss: 0.5067 - val_acc: 0.7735\n",
      "Epoch 14/50\n",
      "4200/4200 [==============================] - 42s - loss: 0.7079 - acc: 0.8210 - val_loss: 0.4573 - val_acc: 0.7803\n",
      "Epoch 15/50\n",
      "4200/4200 [==============================] - 49s - loss: 0.6811 - acc: 0.8310 - val_loss: 0.4552 - val_acc: 0.7780\n",
      "Epoch 16/50\n",
      "4200/4200 [==============================] - 56s - loss: 0.6732 - acc: 0.8357 - val_loss: 0.4799 - val_acc: 0.7735\n",
      "Epoch 17/50\n",
      "4200/4200 [==============================] - 60s - loss: 0.6707 - acc: 0.8264 - val_loss: 0.4617 - val_acc: 0.7937\n",
      "Epoch 18/50\n",
      "4200/4200 [==============================] - 63s - loss: 0.6428 - acc: 0.8376 - val_loss: 0.4602 - val_acc: 0.7646\n",
      "Epoch 19/50\n",
      "4200/4200 [==============================] - 65s - loss: 0.6424 - acc: 0.8419 - val_loss: 0.4497 - val_acc: 0.8139\n",
      "Epoch 20/50\n",
      "4200/4200 [==============================] - 67s - loss: 0.6662 - acc: 0.8436 - val_loss: 0.4472 - val_acc: 0.7960\n",
      "Epoch 21/50\n",
      "4200/4200 [==============================] - 72s - loss: 0.6530 - acc: 0.8395 - val_loss: 0.4498 - val_acc: 0.7960\n",
      "Epoch 22/50\n",
      "4200/4200 [==============================] - 78s - loss: 0.6481 - acc: 0.8448 - val_loss: 0.4738 - val_acc: 0.8004\n"
     ]
    },
    {
     "data": {
      "text/plain": [
       "<keras.callbacks.History at 0x16986ff90>"
      ]
     },
     "execution_count": 120,
     "metadata": {},
     "output_type": "execute_result"
    }
   ],
   "source": [
    "# fit the model \n",
    "early_stoppping = EarlyStopping(monitor='val_loss', patience=10, mode='auto')\n",
    "model.fit(train_X, train_Y, validation_data=[valid_X, valid_Y], nb_epoch=50,\n",
    "          callbacks=[early_stoppping])"
   ]
  },
  {
   "cell_type": "code",
   "execution_count": 121,
   "metadata": {
    "collapsed": false
   },
   "outputs": [
    {
     "data": {
      "text/plain": [
       "<matplotlib.legend.Legend at 0x15265e350>"
      ]
     },
     "execution_count": 121,
     "metadata": {},
     "output_type": "execute_result"
    },
    {
     "data": {
      "image/png": "[encoded data removed]",
      "text/plain": [
       "<matplotlib.figure.Figure at 0x1697d0d90>"
      ]
     },
     "metadata": {},
     "output_type": "display_data"
    }
   ],
   "source": [
    "%matplotlib inline\n",
    "figsize = (14,8)\n",
    "\n",
    "fig = plt.figure(figsize=figsize)\n",
    "ax = fig.add_subplot(2,1,1)\n",
    "ax.plot(model.history.history['val_acc'], label = 'validation set')\n",
    "ax.plot(model.history.history['acc'], label = 'test set')\n",
    "ax.set_ylabel('Predicition accuracy', fontsize='x-large')\n",
    "ax.text(6.5,0.7, \"Best validation accuracy {:.2%}\".format(\n",
    "                                max(model.history.history['val_acc'])\n",
    "                                            )\n",
    "        )\n",
    "ax.legend(loc=0)\n",
    "\n",
    "\n",
    "ax = fig.add_subplot(2,1,2)\n",
    "ax.plot(model.history.history['val_loss'], label = 'validation set')\n",
    "ax.plot(model.history.history['loss'], label = 'test_set')\n",
    "ax.set_ylabel('Loss',fontsize='x-large')\n",
    "ax.legend(loc=0)"
   ]
  },
  {
   "cell_type": "markdown",
   "metadata": {},
   "source": [
    "Conclusions:\n",
    "+ 3 convolutional layer architecture 0.9 % improvement \n",
    "+ extend number of training epochs by increasing the patience parameter may lead to still better performance\n",
    "    + tried extending with change to mb_size=12 did not improve accuracy further (but I may have messed something up)"
   ]
  },
  {
   "cell_type": "code",
   "execution_count": 127,
   "metadata": {
    "collapsed": true
   },
   "outputs": [],
   "source": [
    "inputs = Input(shape=(1,64,80),name='inputs')     \n",
    "\n",
    "x = Convolution2D(30,3, 3, input_shape=(1,64,80),\n",
    "                  activation='relu', \n",
    "                  border_mode='valid',\n",
    "                  name='conv1', \n",
    "                  W_regularizer = l2(l=0.01))(inputs)\n",
    "x= MaxPooling2D(pool_size=(2,2), border_mode= 'valid', name='maxpool1')(x)\n",
    "x=Dropout(p=0.2)(x)\n",
    "\n",
    "x =  Convolution2D(50,3, 3,\n",
    "                  activation='relu', \n",
    "                  border_mode='valid',\n",
    "                  name='conv2',\n",
    "                W_regularizer = l2(l=0.01))(inputs)\n",
    "x= MaxPooling2D(pool_size=(2,2), border_mode= 'valid', name='maxpool2')(x)\n",
    "x=Dropout(p=0.5)(x)\n",
    "\n",
    "x =  Convolution2D(70,4, 4,\n",
    "                  activation='relu', \n",
    "                  border_mode='valid',\n",
    "                  name='conv3',\n",
    "                W_regularizer = l2(l=0.01))(inputs)\n",
    "x= MaxPooling2D(pool_size=(2,2), border_mode= 'valid', name='maxpool3')(x)\n",
    "x=Dropout(p=0.5)(x)\n",
    "\n",
    "x =  Convolution2D(70,8, 10,\n",
    "                  activation='relu', \n",
    "                  border_mode='valid',\n",
    "                  name='conv4',\n",
    "                W_regularizer = l2(l=0.001))(inputs)\n",
    "x= MaxPooling2D(pool_size=(2,2), border_mode= 'valid', name='maxpool4')(x)\n",
    "x=Dropout(p=0.5)(x)\n",
    "\n",
    "\n",
    "x= Flatten(name ='flatten')(x)\n",
    "x = Dense(200, activation='tanh',\n",
    "          name='dense1', init='he_normal', W_regularizer= l2(l=0.001) )(x)\n",
    "x=Dropout(p=0.5)(x)\n",
    "x = Dense(200, activation='tanh',\n",
    "          name='dense2', init='he_normal', W_regularizer= l2(l=0.001))(x)\n",
    "  \n",
    "predictions = Dense(2, activation='softmax', name='output')(x)\n",
    "\n",
    "model =Model(input=inputs, output= predictions)\n",
    "#sgd= SGD(lr = 0.01, momentum=0.9, nesterov=True)\n",
    "adam = Adam()\n",
    "\n",
    "model.compile(loss = 'categorical_crossentropy', optimizer=adam,\n",
    "             metrics=['accuracy'])"
   ]
  },
  {
   "cell_type": "code",
   "execution_count": 128,
   "metadata": {
    "collapsed": false
   },
   "outputs": [
    {
     "name": "stdout",
     "output_type": "stream",
     "text": [
      "Train on 4200 samples, validate on 446 samples\n",
      "Epoch 1/70\n",
      "4200/4200 [==============================] - 51s - loss: 1.4838 - acc: 0.6507 - val_loss: 0.5542 - val_acc: 0.7399\n",
      "Epoch 2/70\n",
      "4200/4200 [==============================] - 50s - loss: 1.3233 - acc: 0.7314 - val_loss: 0.4878 - val_acc: 0.7646\n",
      "Epoch 3/70\n",
      "4200/4200 [==============================] - 50s - loss: 1.1955 - acc: 0.7545 - val_loss: 0.4806 - val_acc: 0.7691\n",
      "Epoch 4/70\n",
      "4200/4200 [==============================] - 49s - loss: 1.0549 - acc: 0.7800 - val_loss: 0.4626 - val_acc: 0.7982\n",
      "Epoch 5/70\n",
      "4200/4200 [==============================] - 49s - loss: 0.9932 - acc: 0.7814 - val_loss: 0.5183 - val_acc: 0.7444\n",
      "Epoch 6/70\n",
      "4200/4200 [==============================] - 49s - loss: 0.9151 - acc: 0.7869 - val_loss: 0.5084 - val_acc: 0.7578\n",
      "Epoch 7/70\n",
      "4200/4200 [==============================] - 50s - loss: 0.8686 - acc: 0.7936 - val_loss: 0.4764 - val_acc: 0.7848\n",
      "Epoch 8/70\n",
      "4200/4200 [==============================] - 53s - loss: 0.8206 - acc: 0.8050 - val_loss: 0.4682 - val_acc: 0.7803\n",
      "Epoch 9/70\n",
      "4200/4200 [==============================] - 55s - loss: 0.7881 - acc: 0.8067 - val_loss: 0.4715 - val_acc: 0.7892\n",
      "Epoch 10/70\n",
      "4200/4200 [==============================] - 58s - loss: 0.7537 - acc: 0.8124 - val_loss: 0.5051 - val_acc: 0.7691\n",
      "Epoch 11/70\n",
      "4200/4200 [==============================] - 58s - loss: 0.7359 - acc: 0.8183 - val_loss: 0.4666 - val_acc: 0.7848\n",
      "Epoch 12/70\n",
      "4200/4200 [==============================] - 57s - loss: 0.7137 - acc: 0.8217 - val_loss: 0.4688 - val_acc: 0.7803\n",
      "Epoch 13/70\n",
      "4200/4200 [==============================] - 59s - loss: 0.7172 - acc: 0.8226 - val_loss: 0.4504 - val_acc: 0.7825\n",
      "Epoch 14/70\n",
      "4200/4200 [==============================] - 64s - loss: 0.7070 - acc: 0.8281 - val_loss: 0.4596 - val_acc: 0.7825\n",
      "Epoch 15/70\n",
      "4200/4200 [==============================] - 73s - loss: 0.6911 - acc: 0.8271 - val_loss: 0.4718 - val_acc: 0.7825\n",
      "Epoch 16/70\n",
      "4200/4200 [==============================] - 85s - loss: 0.6571 - acc: 0.8321 - val_loss: 0.4687 - val_acc: 0.7937\n",
      "Epoch 17/70\n",
      "4200/4200 [==============================] - 93s - loss: 0.6646 - acc: 0.8340 - val_loss: 0.5102 - val_acc: 0.7534\n",
      "Epoch 18/70\n",
      "4200/4200 [==============================] - 101s - loss: 0.6542 - acc: 0.8367 - val_loss: 0.4767 - val_acc: 0.7691\n",
      "Epoch 19/70\n",
      "4200/4200 [==============================] - 107s - loss: 0.6425 - acc: 0.8390 - val_loss: 0.4966 - val_acc: 0.7578\n",
      "Epoch 20/70\n",
      "4200/4200 [==============================] - 110s - loss: 0.6602 - acc: 0.8364 - val_loss: 0.4797 - val_acc: 0.7668\n",
      "Epoch 21/70\n",
      "4200/4200 [==============================] - 112s - loss: 0.6633 - acc: 0.8402 - val_loss: 0.4558 - val_acc: 0.7892\n",
      "Epoch 22/70\n",
      "4200/4200 [==============================] - 116s - loss: 0.6287 - acc: 0.8507 - val_loss: 0.4763 - val_acc: 0.7735\n",
      "Epoch 23/70\n",
      "4200/4200 [==============================] - 122s - loss: 0.6590 - acc: 0.8405 - val_loss: 0.4852 - val_acc: 0.7825\n",
      "Epoch 24/70\n",
      "4200/4200 [==============================] - 128s - loss: 0.6711 - acc: 0.8486 - val_loss: 0.4847 - val_acc: 0.7758\n",
      "Epoch 25/70\n",
      "4200/4200 [==============================] - 135s - loss: 0.6634 - acc: 0.8467 - val_loss: 0.4752 - val_acc: 0.7892\n",
      "Epoch 26/70\n",
      "4200/4200 [==============================] - 145s - loss: 0.6377 - acc: 0.8571 - val_loss: 0.4999 - val_acc: 0.7780\n",
      "Epoch 27/70\n",
      "4200/4200 [==============================] - 152s - loss: 0.6558 - acc: 0.8512 - val_loss: 0.4898 - val_acc: 0.7915\n",
      "Epoch 28/70\n",
      "4200/4200 [==============================] - 158s - loss: 0.6355 - acc: 0.8588 - val_loss: 0.4812 - val_acc: 0.7825\n",
      "Epoch 29/70\n",
      "4200/4200 [==============================] - 163s - loss: 0.6373 - acc: 0.8476 - val_loss: 0.4590 - val_acc: 0.7803\n"
     ]
    },
    {
     "data": {
      "text/plain": [
       "<keras.callbacks.History at 0x142180d90>"
      ]
     },
     "execution_count": 128,
     "metadata": {},
     "output_type": "execute_result"
    }
   ],
   "source": [
    "# fit the model \n",
    "early_stoppping = EarlyStopping(monitor='val_loss', patience=15, mode='auto')\n",
    "model.fit(train_X, train_Y, validation_data=[valid_X, valid_Y], nb_epoch=70,\n",
    "          callbacks=[early_stoppping])"
   ]
  },
  {
   "cell_type": "code",
   "execution_count": 132,
   "metadata": {
    "collapsed": false
   },
   "outputs": [
    {
     "name": "stdout",
     "output_type": "stream",
     "text": [
      "inputs\n",
      "(None, 1, 64, 80)\n",
      "conv4\n",
      "(None, 1, 64, 80)\n",
      "maxpool4\n",
      "(None, 70, 57, 71)\n",
      "dropout_52\n",
      "(None, 70, 28, 35)\n",
      "flatten\n",
      "(None, 70, 28, 35)\n",
      "dense1\n",
      "(None, 68600)\n",
      "dropout_53\n",
      "(None, 200)\n",
      "dense2\n",
      "(None, 200)\n",
      "output\n",
      "(None, 200)\n"
     ]
    }
   ],
   "source": [
    "for layer in model.layers:\n",
    "    print layer.name\n",
    "    print layer.input_shape"
   ]
  },
  {
   "cell_type": "code",
   "execution_count": 129,
   "metadata": {
    "collapsed": true
   },
   "outputs": [],
   "source": [
    "layer1 = model.layers[1]"
   ]
  },
  {
   "cell_type": "code",
   "execution_count": 130,
   "metadata": {
    "collapsed": false
   },
   "outputs": [
    {
     "data": {
      "text/plain": [
       "(None, 1, 64, 80)"
      ]
     },
     "execution_count": 130,
     "metadata": {},
     "output_type": "execute_result"
    }
   ],
   "source": [
    "layer1.input_shape"
   ]
  },
  {
   "cell_type": "code",
   "execution_count": 133,
   "metadata": {
    "collapsed": false
   },
   "outputs": [
    {
     "name": "stdout",
     "output_type": "stream",
     "text": [
      "9\n"
     ]
    }
   ],
   "source": [
    "print len(model.layers)"
   ]
  },
  {
   "cell_type": "code",
   "execution_count": null,
   "metadata": {
    "collapsed": true
   },
   "outputs": [],
   "source": []
  }
 ],
 "metadata": {
  "kernelspec": {
   "display_name": "Python 2",
   "language": "python",
   "name": "python2"
  },
  "language_info": {
   "codemirror_mode": {
    "name": "ipython",
    "version": 2
   },
   "file_extension": ".py",
   "mimetype": "text/x-python",
   "name": "python",
   "nbconvert_exporter": "python",
   "pygments_lexer": "ipython2",
   "version": "2.7.10"
  }
 },
 "nbformat": 4,
 "nbformat_minor": 0
}
